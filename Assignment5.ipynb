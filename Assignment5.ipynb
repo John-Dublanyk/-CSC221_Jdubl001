{
  "nbformat": 4,
  "nbformat_minor": 0,
  "metadata": {
    "colab": {
      "provenance": [],
      "authorship_tag": "ABX9TyO3Pzjv2WrLyg6X8fXrtKA2",
      "include_colab_link": true
    },
    "kernelspec": {
      "name": "python3",
      "display_name": "Python 3"
    },
    "language_info": {
      "name": "python"
    }
  },
  "cells": [
    {
      "cell_type": "markdown",
      "metadata": {
        "id": "view-in-github",
        "colab_type": "text"
      },
      "source": [
        "<a href=\"https://colab.research.google.com/github/John-Dublanyk/-CSC221_Jdubl001/blob/main/Assignment5.ipynb\" target=\"_parent\"><img src=\"https://colab.research.google.com/assets/colab-badge.svg\" alt=\"Open In Colab\"/></a>"
      ]
    },
    {
      "cell_type": "code",
      "source": [
        "##4-1\n",
        "toppings = ['pepperoni', 'Cheese', 'sausage', 'Pineapple']\n",
        "message = \" I really like {} on my pizza.\"\n",
        "\n",
        "for topping in toppings:\n",
        "  message_1 = message.format(topping)\n",
        "  print(message_1)\n",
        "\n",
        "else:\n",
        "  print('I really love pizza!')"
      ],
      "metadata": {
        "colab": {
          "base_uri": "https://localhost:8080/"
        },
        "id": "VWGs5vhyAPtx",
        "outputId": "780836a6-99e7-4403-980a-af22ec8b1242"
      },
      "execution_count": 54,
      "outputs": [
        {
          "output_type": "stream",
          "name": "stdout",
          "text": [
            " I really like pepperoni on my pizza.\n",
            " I really like Cheese on my pizza.\n",
            " I really like sausage on my pizza.\n",
            " I really like Pineapple on my pizza.\n",
            "I really love pizza!\n"
          ]
        }
      ]
    },
    {
      "cell_type": "code",
      "source": [
        "#4-2 Is similar to 4-1"
      ],
      "metadata": {
        "id": "Xdxx7AXrF0UQ"
      },
      "execution_count": null,
      "outputs": []
    },
    {
      "cell_type": "code",
      "source": [
        "#4-3\n",
        "my_list = []\n",
        "for value in range(1,11):\n",
        "  my_list.append(value)\n",
        "\n",
        "print(my_list)\n",
        "\n"
      ],
      "metadata": {
        "colab": {
          "base_uri": "https://localhost:8080/"
        },
        "id": "edv8oz8lGSR0",
        "outputId": "53da205b-c22b-4164-cfc6-9b441c38aa1e"
      },
      "execution_count": 66,
      "outputs": [
        {
          "output_type": "stream",
          "name": "stdout",
          "text": [
            "[1, 2, 3, 4, 5, 6, 7, 8, 9, 10]\n"
          ]
        }
      ]
    },
    {
      "cell_type": "code",
      "source": [
        "#4-4 with more numbers\n"
      ],
      "metadata": {
        "id": "fwg_hf9IJWmJ"
      },
      "execution_count": null,
      "outputs": []
    },
    {
      "cell_type": "code",
      "source": [
        "#4-5\n",
        "my_list = []\n",
        "for value in range(1,1000001):\n",
        "  my_list.append(value)\n",
        "print(min(my_list))\n",
        "print(max(my_list))\n",
        "print(sum(my_list))"
      ],
      "metadata": {
        "colab": {
          "base_uri": "https://localhost:8080/"
        },
        "id": "HnlvM61EKJfB",
        "outputId": "1e7b2e2c-e42e-46d1-f9d0-931eb6239b4b"
      },
      "execution_count": 69,
      "outputs": [
        {
          "output_type": "stream",
          "name": "stdout",
          "text": [
            "1\n",
            "1000000\n",
            "500000500000\n"
          ]
        }
      ]
    },
    {
      "cell_type": "code",
      "source": [
        "#4-6\n",
        "my_list = []\n",
        "for value in range(1,21,2):\n",
        "  my_list.append(value)\n",
        "\n",
        "print(my_list)"
      ],
      "metadata": {
        "colab": {
          "base_uri": "https://localhost:8080/"
        },
        "id": "0pnchsRpK6ZD",
        "outputId": "bbfd8e68-9b0a-4476-9377-0636534f796e"
      },
      "execution_count": 77,
      "outputs": [
        {
          "output_type": "stream",
          "name": "stdout",
          "text": [
            "[1, 3, 5, 7, 9, 11, 13, 15, 17, 19]\n"
          ]
        }
      ]
    },
    {
      "cell_type": "code",
      "source": [
        "#4-7\n",
        "my_list = []\n",
        "for value in range(3,31,3):\n",
        "  my_list.append(value)\n",
        "\n",
        "print(my_list)"
      ],
      "metadata": {
        "colab": {
          "base_uri": "https://localhost:8080/"
        },
        "id": "vHRmknssL3kD",
        "outputId": "6458dd8a-4fe1-4a46-f330-11856585bd8f"
      },
      "execution_count": 76,
      "outputs": [
        {
          "output_type": "stream",
          "name": "stdout",
          "text": [
            "[3, 6, 9, 12, 15, 18, 21, 24, 27, 30]\n"
          ]
        }
      ]
    },
    {
      "cell_type": "code",
      "source": [
        "#4-8\n",
        "cubes = []\n",
        "for value in range(1,11):\n",
        " cubes.append(value**3)\n",
        "print(cubes)"
      ],
      "metadata": {
        "colab": {
          "base_uri": "https://localhost:8080/"
        },
        "id": "FUSpc0UrMORg",
        "outputId": "dcd6144c-5bc8-4f51-fe67-044aba8eafe1"
      },
      "execution_count": 79,
      "outputs": [
        {
          "output_type": "stream",
          "name": "stdout",
          "text": [
            "[1, 8, 27, 64, 125, 216, 343, 512, 729, 1000]\n"
          ]
        }
      ]
    },
    {
      "cell_type": "code",
      "source": [
        "#4-9\n",
        "Cubes = [value**3 for value in range(1,11)]\n",
        "print(cubes)"
      ],
      "metadata": {
        "colab": {
          "base_uri": "https://localhost:8080/"
        },
        "id": "Yw0QfzZYNZ2x",
        "outputId": "9c3a2286-333e-4530-f9ee-db5c7869016c"
      },
      "execution_count": 81,
      "outputs": [
        {
          "output_type": "stream",
          "name": "stdout",
          "text": [
            "[1, 8, 27, 64, 125, 216, 343, 512, 729, 1000]\n"
          ]
        }
      ]
    },
    {
      "cell_type": "code",
      "source": [
        "#4-10\n",
        "my_list = []\n",
        "for value in range(1,11):\n",
        "  my_list.append(value)\n",
        "print(\"The first three items in the list are:\")\n",
        "print(my_list[:3])\n"
      ],
      "metadata": {
        "colab": {
          "base_uri": "https://localhost:8080/"
        },
        "id": "fTTjKaAPOEx-",
        "outputId": "80390fb3-a57d-45d0-9150-274d597ccc3f"
      },
      "execution_count": 86,
      "outputs": [
        {
          "output_type": "stream",
          "name": "stdout",
          "text": [
            "The first three items in the list are:\n",
            "[1, 2, 3]\n"
          ]
        }
      ]
    },
    {
      "cell_type": "code",
      "source": [
        "my_list = []\n",
        "for value in range(1,11):\n",
        "  my_list.append(value)\n",
        "print(\"Three items from the middle of the list are:\")\n",
        "print(my_list[3:6])"
      ],
      "metadata": {
        "colab": {
          "base_uri": "https://localhost:8080/"
        },
        "id": "VK7N4xYqP5Kh",
        "outputId": "31ed8167-332f-4375-dcd3-cf43ee7ceef6"
      },
      "execution_count": 87,
      "outputs": [
        {
          "output_type": "stream",
          "name": "stdout",
          "text": [
            "Three items from the middle of the list are:\n",
            "[4, 5, 6]\n"
          ]
        }
      ]
    },
    {
      "cell_type": "code",
      "source": [
        "my_list = []\n",
        "for value in range(1,11):\n",
        "  my_list.append(value)\n",
        "print(\"Three items from the middle of the list are:\")\n",
        "print(my_list[-3:])"
      ],
      "metadata": {
        "colab": {
          "base_uri": "https://localhost:8080/"
        },
        "id": "Dnu45vo9QU9T",
        "outputId": "735936d3-af9e-4c27-f160-0c04bda7e3c9"
      },
      "execution_count": 88,
      "outputs": [
        {
          "output_type": "stream",
          "name": "stdout",
          "text": [
            "Three items from the middle of the list are:\n",
            "[8, 9, 10]\n"
          ]
        }
      ]
    },
    {
      "cell_type": "code",
      "source": [
        "#4-11\n",
        "toppings = ['pepperoni', 'Cheese', 'sausage', 'Pineapple']\n",
        "friends_pizzas = []\n",
        "friends_pizzas.append('Bacon')\n",
        "toppings.append('Pepper')\n",
        "print(toppings)\n",
        "print(friends_pizzas)\n"
      ],
      "metadata": {
        "colab": {
          "base_uri": "https://localhost:8080/"
        },
        "id": "IDCtsDdEQtx3",
        "outputId": "a3537fea-fdf5-4902-ac38-5dca97eb0166"
      },
      "execution_count": 95,
      "outputs": [
        {
          "output_type": "stream",
          "name": "stdout",
          "text": [
            "['pepperoni', 'Cheese', 'sausage', 'Pineapple', 'Pepper']\n",
            "['Bacon']\n"
          ]
        }
      ]
    },
    {
      "cell_type": "code",
      "source": [
        "#4-12 it will look like the other for loops i have already used\n",
        "\n"
      ],
      "metadata": {
        "id": "kBDxSlrvT_t-"
      },
      "execution_count": null,
      "outputs": []
    },
    {
      "cell_type": "code",
      "source": [
        "#4-13\n",
        "bullet = (\"chicken\", \"steak\", \"rice\", \"ice cream\", \"salad\")\n",
        "for i in bullet:\n",
        "  print(i)\n"
      ],
      "metadata": {
        "colab": {
          "base_uri": "https://localhost:8080/"
        },
        "id": "BveEHTWIUaPn",
        "outputId": "e6112c97-0ef3-444d-c76d-41d96699adcc"
      },
      "execution_count": 96,
      "outputs": [
        {
          "output_type": "stream",
          "name": "stdout",
          "text": [
            "chicken\n",
            "steak\n",
            "rice\n",
            "ice cream\n",
            "salad\n"
          ]
        }
      ]
    },
    {
      "cell_type": "code",
      "source": [
        "#4-13 code error\n",
        "bullet = (\"chicken\", \"steak\", \"rice\", \"ice cream\", \"salad\")\n",
        "for i in bullet:\n",
        "  bullet.append(\"chicken\")\n",
        "  print(i)"
      ],
      "metadata": {
        "colab": {
          "base_uri": "https://localhost:8080/",
          "height": 234
        },
        "id": "4Ig5U4quWNd8",
        "outputId": "634fb896-fe21-4056-9c49-ca38132e6e8c"
      },
      "execution_count": 97,
      "outputs": [
        {
          "output_type": "error",
          "ename": "AttributeError",
          "evalue": "ignored",
          "traceback": [
            "\u001b[0;31m---------------------------------------------------------------------------\u001b[0m",
            "\u001b[0;31mAttributeError\u001b[0m                            Traceback (most recent call last)",
            "\u001b[0;32m<ipython-input-97-b3f42cfa150e>\u001b[0m in \u001b[0;36m<cell line: 2>\u001b[0;34m()\u001b[0m\n\u001b[1;32m      1\u001b[0m \u001b[0mbullet\u001b[0m \u001b[0;34m=\u001b[0m \u001b[0;34m(\u001b[0m\u001b[0;34m\"chicken\"\u001b[0m\u001b[0;34m,\u001b[0m \u001b[0;34m\"steak\"\u001b[0m\u001b[0;34m,\u001b[0m \u001b[0;34m\"rice\"\u001b[0m\u001b[0;34m,\u001b[0m \u001b[0;34m\"ice cream\"\u001b[0m\u001b[0;34m,\u001b[0m \u001b[0;34m\"salad\"\u001b[0m\u001b[0;34m)\u001b[0m\u001b[0;34m\u001b[0m\u001b[0;34m\u001b[0m\u001b[0m\n\u001b[1;32m      2\u001b[0m \u001b[0;32mfor\u001b[0m \u001b[0mi\u001b[0m \u001b[0;32min\u001b[0m \u001b[0mbullet\u001b[0m\u001b[0;34m:\u001b[0m\u001b[0;34m\u001b[0m\u001b[0;34m\u001b[0m\u001b[0m\n\u001b[0;32m----> 3\u001b[0;31m   \u001b[0mbullet\u001b[0m\u001b[0;34m.\u001b[0m\u001b[0mappend\u001b[0m\u001b[0;34m(\u001b[0m\u001b[0;34m\"chicken\"\u001b[0m\u001b[0;34m)\u001b[0m\u001b[0;34m\u001b[0m\u001b[0;34m\u001b[0m\u001b[0m\n\u001b[0m\u001b[1;32m      4\u001b[0m   \u001b[0mprint\u001b[0m\u001b[0;34m(\u001b[0m\u001b[0mi\u001b[0m\u001b[0;34m)\u001b[0m\u001b[0;34m\u001b[0m\u001b[0;34m\u001b[0m\u001b[0m\n",
            "\u001b[0;31mAttributeError\u001b[0m: 'tuple' object has no attribute 'append'"
          ]
        }
      ]
    },
    {
      "cell_type": "code",
      "source": [
        "#4-13\n",
        "buffet = (\"chicken\", \"steak\", \"rice\", \"ice cream\", \"salad\")\n",
        "for i in bullet:\n",
        "  print(i)\n",
        "print(\"\\nNew buffet\")\n",
        "new_buffet = (\"bacon\", \"pork\", \"noodles\", \"ice\", \"pasta\")\n",
        "for i in new_bullet:\n",
        "  print(i)"
      ],
      "metadata": {
        "colab": {
          "base_uri": "https://localhost:8080/"
        },
        "id": "Dpd-cjcLWhyN",
        "outputId": "b3e8e6e7-bcc8-42d5-e8f1-76f24bf5c8a6"
      },
      "execution_count": 104,
      "outputs": [
        {
          "output_type": "stream",
          "name": "stdout",
          "text": [
            "chicken\n",
            "steak\n",
            "rice\n",
            "ice cream\n",
            "salad\n",
            "\n",
            "New buffet\n",
            "bacon\n",
            "porl\n",
            "noodles\n",
            "ice\n",
            "pasta\n"
          ]
        }
      ]
    },
    {
      "cell_type": "code",
      "execution_count": 110,
      "metadata": {
        "colab": {
          "base_uri": "https://localhost:8080/"
        },
        "id": "afQmZFuG8B0x",
        "outputId": "0db10dc3-8a18-4550-f38a-5e8c9df48347"
      },
      "outputs": [
        {
          "output_type": "stream",
          "name": "stdout",
          "text": [
            "120\n",
            "3628800\n",
            "2432902008176640000\n",
            "30414093201713378043612608166064768844377641568960512000000000000\n"
          ]
        }
      ],
      "source": [
        "def factorial(n):\n",
        "    my_list = [1]\n",
        "\n",
        "    for x in range(1, n+1):\n",
        "      my_list.append(x)\n",
        "\n",
        "    product = 1\n",
        "\n",
        "    for x in my_list:\n",
        "      product *= x\n",
        "\n",
        "    return product\n",
        "\n",
        "print(factorial(5))\n",
        "print(factorial(10))\n",
        "print(factorial(20))\n",
        "print(factorial(50))\n"
      ]
    },
    {
      "cell_type": "code",
      "source": [
        "def special_factorial(n):\n",
        "    my_list = [1]\n",
        "\n",
        "    for x in range(1, n+1):\n",
        "      my_list.append(x)\n",
        "\n",
        "    if n >= 4:\n",
        "      my_list.remove(4)\n",
        "    if n >= 12:\n",
        "      my_list.remove(12)\n",
        "    if n >= 22:\n",
        "      my_list.remove(22)\n",
        "\n",
        "    product = 1\n",
        "\n",
        "    for x in my_list:\n",
        "      product *= x\n",
        "\n",
        "    return product\n",
        "\n",
        "print(special_factorial(5))\n",
        "print(special_factorial(10))\n",
        "print(special_factorial(20))\n",
        "print(special_factorial(50))\n"
      ],
      "metadata": {
        "colab": {
          "base_uri": "https://localhost:8080/"
        },
        "id": "naMqfQaHYvzI",
        "outputId": "eb32acd3-662d-49ae-88d6-e394dcb9f599"
      },
      "execution_count": 126,
      "outputs": [
        {
          "output_type": "stream",
          "name": "stdout",
          "text": [
            "30\n",
            "907200\n",
            "50685458503680000\n",
            "28801224622834638298875575914834061405660645425152000000000000\n"
          ]
        }
      ]
    }
  ]
}