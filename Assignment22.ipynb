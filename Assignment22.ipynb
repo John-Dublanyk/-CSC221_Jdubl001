{
  "nbformat": 4,
  "nbformat_minor": 0,
  "metadata": {
    "colab": {
      "provenance": [],
      "authorship_tag": "ABX9TyP/1A1dCBf/P/rbNy79y1dz",
      "include_colab_link": true
    },
    "kernelspec": {
      "name": "python3",
      "display_name": "Python 3"
    },
    "language_info": {
      "name": "python"
    }
  },
  "cells": [
    {
      "cell_type": "markdown",
      "metadata": {
        "id": "view-in-github",
        "colab_type": "text"
      },
      "source": [
        "<a href=\"https://colab.research.google.com/github/John-Dublanyk/-CSC221_Jdubl001/blob/main/Assignment22.ipynb\" target=\"_parent\"><img src=\"https://colab.research.google.com/assets/colab-badge.svg\" alt=\"Open In Colab\"/></a>"
      ]
    },
    {
      "cell_type": "code",
      "execution_count": 24,
      "metadata": {
        "colab": {
          "base_uri": "https://localhost:8080/"
        },
        "id": "JVt-uUcp3fKl",
        "outputId": "e178df63-0f3e-4f95-8e45-71ec5bcecdb3"
      },
      "outputs": [
        {
          "output_type": "stream",
          "name": "stdout",
          "text": [
            "Original List:\n",
            "[Vector2D(40, 4000), Vector2D(200, 2), Vector2D(1, 1)]\n",
            "\n",
            "Sorted List by Length:\n",
            "[Vector2D(1, 1), Vector2D(200, 2), Vector2D(40, 4000)]\n"
          ]
        }
      ],
      "source": [
        "#1\n",
        "import numpy\n",
        "\n",
        "class Vector2D:\n",
        "    def __init__(self, x, y):\n",
        "        self.x = x\n",
        "        self.y = y\n",
        "\n",
        "    def __repr__(self):\n",
        "        return f\"Vector2D({self.x}, {self.y})\"\n",
        "\n",
        "    def __lt__(self, other):\n",
        "        return numpy.sqrt(self.x**2 + self.y**2) < numpy.sqrt(other.x**2 + other.y**2)\n",
        "\n",
        "v1 = Vector2D(40, 4000)\n",
        "v2 = Vector2D(200, 2)\n",
        "v3 = Vector2D(1, 1)\n",
        "\n",
        "vector_list = [v1, v2, v3]\n",
        "\n",
        "print(\"Original List:\")\n",
        "print(vector_list)\n",
        "\n",
        "vector_list.sort()\n",
        "\n",
        "print(\"\\nSorted List by Length:\")\n",
        "print(vector_list)\n"
      ]
    },
    {
      "cell_type": "code",
      "source": [
        "#2\n",
        "class Vector2D:\n",
        "    def __init__(self, x, y):\n",
        "        self.x = x\n",
        "        self.y = y\n",
        "\n",
        "    def __repr__(self):\n",
        "        return f\"Vector2D({self.x}, {self.y})\"\n",
        "\n",
        "    def __lt__(self, other):\n",
        "        return self.x + self.y < other.x + other.y\n",
        "\n",
        "v1 = Vector2D(40, 4000)\n",
        "v2 = Vector2D(200, 2)\n",
        "v3 = Vector2D(1, 1)\n",
        "\n",
        "vector_list = [v1, v2, v3]\n",
        "\n",
        "print(\"Original List:\")\n",
        "print(vector_list)\n",
        "\n",
        "vector_list.sort()\n",
        "\n",
        "print(\"\\nSorted List:\")\n",
        "print(vector_list)\n"
      ],
      "metadata": {
        "colab": {
          "base_uri": "https://localhost:8080/"
        },
        "id": "xbsxYhVZ6jOR",
        "outputId": "50d6fd2d-9fe6-414b-ade2-6579d487d798"
      },
      "execution_count": 25,
      "outputs": [
        {
          "output_type": "stream",
          "name": "stdout",
          "text": [
            "Original List:\n",
            "[Vector2D(40, 4000), Vector2D(200, 2), Vector2D(1, 1)]\n",
            "\n",
            "Sorted List:\n",
            "[Vector2D(1, 1), Vector2D(200, 2), Vector2D(40, 4000)]\n"
          ]
        }
      ]
    },
    {
      "cell_type": "code",
      "source": [
        "#3\n",
        "class Special:\n",
        "    def __getitem__(self, key):\n",
        "        return len(key)\n",
        "\n",
        "s1 = Special()\n",
        "print(s1[\"ned\"])\n",
        "print(s1[\"ned2\"])\n",
        "print(s1[\"ned2\" * 5])"
      ],
      "metadata": {
        "colab": {
          "base_uri": "https://localhost:8080/"
        },
        "id": "fbeEKCmL-8dZ",
        "outputId": "24e9d7f8-f56a-402d-f0a5-b1213f6a8e12"
      },
      "execution_count": 23,
      "outputs": [
        {
          "output_type": "stream",
          "name": "stdout",
          "text": [
            "3\n",
            "4\n",
            "20\n"
          ]
        }
      ]
    }
  ]
}