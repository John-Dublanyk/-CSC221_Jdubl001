{
  "nbformat": 4,
  "nbformat_minor": 0,
  "metadata": {
    "colab": {
      "provenance": [],
      "authorship_tag": "ABX9TyNZ60FUvt5bQiSm5pMfil/6",
      "include_colab_link": true
    },
    "kernelspec": {
      "name": "python3",
      "display_name": "Python 3"
    },
    "language_info": {
      "name": "python"
    }
  },
  "cells": [
    {
      "cell_type": "markdown",
      "metadata": {
        "id": "view-in-github",
        "colab_type": "text"
      },
      "source": [
        "<a href=\"https://colab.research.google.com/github/John-Dublanyk/-CSC221_Jdubl001/blob/main/Assignment_13_part1.ipynb\" target=\"_parent\"><img src=\"https://colab.research.google.com/assets/colab-badge.svg\" alt=\"Open In Colab\"/></a>"
      ]
    },
    {
      "cell_type": "code",
      "source": [
        "#John Dublanyk\n",
        "#Assignment 13"
      ],
      "metadata": {
        "id": "LLvz7NJX2VaO"
      },
      "execution_count": null,
      "outputs": []
    },
    {
      "cell_type": "code",
      "execution_count": 3,
      "metadata": {
        "colab": {
          "base_uri": "https://localhost:8080/"
        },
        "id": "nWMm-BYbkQc0",
        "outputId": "fabd0eef-c8d9-49d5-80e4-5be040e6765e"
      },
      "outputs": [
        {
          "output_type": "stream",
          "name": "stdout",
          "text": [
            "Overwriting learning_python.txt\n"
          ]
        }
      ],
      "source": [
        "#10-1\n",
        "%%file  learning_python.txt\n",
        "In Python you can use for and while loops to iterate over a sequence.\n",
        "In python you can use print statements to print out a specific message."
      ]
    },
    {
      "cell_type": "code",
      "source": [
        "#10-1\n",
        "file = open('learning_python.txt', 'r')\n",
        "\n",
        "line = file.readline()\n",
        "while len(line)>0:\n",
        "    print(f\"{line}\")\n",
        "    line = file.readline()\n",
        "\n",
        "file = open('learning_python.txt', 'r')\n",
        "\n",
        "while line := file.readline():\n",
        "    line = line.strip()\n",
        "    fields = line.split(',')\n",
        "    print(fields)\n",
        "\n"
      ],
      "metadata": {
        "colab": {
          "base_uri": "https://localhost:8080/"
        },
        "id": "eEgb67iVmico",
        "outputId": "8971d618-2c3b-4889-a2c2-30993355ed04"
      },
      "execution_count": 18,
      "outputs": [
        {
          "output_type": "stream",
          "name": "stdout",
          "text": [
            "In Python you can use for and while loops to iterate over a sequence.\n",
            "\n",
            "In python you can use print statements to print out a specific message.\n",
            "\n",
            "['In Python you can use for and while loops to iterate over a sequence.']\n",
            "['In python you can use print statements to print out a specific message.']\n"
          ]
        }
      ]
    },
    {
      "cell_type": "code",
      "source": [
        "#10-4\n",
        "from pathlib import Path\n",
        "\n",
        "name = input(\"Enter name: \")\n",
        "path = Path('guest.txt')\n",
        "path.write_text(f\"{name}\")\n",
        "\n",
        "file = open('guest.txt', 'r')\n",
        "\n",
        "line = file.readline()\n",
        "while len(line)>0:\n",
        "    print(f'{line}')\n",
        "    line = file.readline()\n"
      ],
      "metadata": {
        "colab": {
          "base_uri": "https://localhost:8080/"
        },
        "id": "VXXP4YbVphe6",
        "outputId": "8009349a-8d0c-4001-9a3e-12b9474da5d9"
      },
      "execution_count": 30,
      "outputs": [
        {
          "output_type": "stream",
          "name": "stdout",
          "text": [
            "Enter name: John\n",
            "John\n"
          ]
        }
      ]
    },
    {
      "cell_type": "code",
      "source": [],
      "metadata": {
        "id": "cBzVpPSorwHO"
      },
      "execution_count": null,
      "outputs": []
    }
  ]
}