{
  "nbformat": 4,
  "nbformat_minor": 0,
  "metadata": {
    "colab": {
      "provenance": [],
      "authorship_tag": "ABX9TyNNt6nQYZpaKTo04uKWEO2S",
      "include_colab_link": true
    },
    "kernelspec": {
      "name": "python3",
      "display_name": "Python 3"
    },
    "language_info": {
      "name": "python"
    }
  },
  "cells": [
    {
      "cell_type": "markdown",
      "metadata": {
        "id": "view-in-github",
        "colab_type": "text"
      },
      "source": [
        "<a href=\"https://colab.research.google.com/github/John-Dublanyk/-CSC221_Jdubl001/blob/main/Assignment6.ipynb\" target=\"_parent\"><img src=\"https://colab.research.google.com/assets/colab-badge.svg\" alt=\"Open In Colab\"/></a>"
      ]
    },
    {
      "cell_type": "code",
      "execution_count": 29,
      "metadata": {
        "colab": {
          "base_uri": "https://localhost:8080/"
        },
        "id": "1Fb7QjMNBd09",
        "outputId": "eb5841ec-292b-40aa-f81b-4cceb8014873"
      },
      "outputs": [
        {
          "output_type": "stream",
          "name": "stdout",
          "text": [
            "Is your car Ford? I predict True.\n",
            "True\n",
            "is your car an audi? I predict false\n",
            "False\n"
          ]
        }
      ],
      "source": [
        "#5-1\n",
        "car = 'Ford'\n",
        "print(\"Is your car Ford? I predict True.\")\n",
        "print(car == 'Ford')\n",
        "\n",
        "print(\"is your car an audi? I predict false\")\n",
        "print(car == 'audi')"
      ]
    },
    {
      "cell_type": "code",
      "source": [
        "car =  'Chavy'\n",
        "print(\"Is your car Chavy? I predict True.\")\n",
        "print(car == 'Chavy')"
      ],
      "metadata": {
        "colab": {
          "base_uri": "https://localhost:8080/"
        },
        "id": "Ku5P1PCoGEhz",
        "outputId": "9981559a-5d66-4715-e289-b93d16c6f8d7"
      },
      "execution_count": 24,
      "outputs": [
        {
          "output_type": "stream",
          "name": "stdout",
          "text": [
            "Is car Ford? I predict True.\n",
            "True\n"
          ]
        }
      ]
    },
    {
      "cell_type": "code",
      "source": [
        "car = 'Having wheels'\n",
        "print(\"does your car have wheels? I predict true.\")\n",
        "print(car == 'Having wheels')\n",
        "\n",
        "print(\"does your car have no wheels? I predict false.\" )\n",
        "print(car == 'no wheels')"
      ],
      "metadata": {
        "colab": {
          "base_uri": "https://localhost:8080/"
        },
        "id": "khJvV9doH8E0",
        "outputId": "007fa949-7968-405d-de76-f2cceb135190"
      },
      "execution_count": 30,
      "outputs": [
        {
          "output_type": "stream",
          "name": "stdout",
          "text": [
            "does your car have wheels? I predict true.\n",
            "True\n",
            "does your car have no wheels? I predict false.\n",
            "False\n"
          ]
        }
      ]
    },
    {
      "cell_type": "code",
      "source": [
        "car = 'Bikes'\n",
        "print(\"do you have Bikes wheels? I predict true.\")\n",
        "print(car == 'Bikes')\n",
        "\n",
        "print(\"doe you car have one bike? I predict false.\" )\n",
        "print(car == 'one bike')"
      ],
      "metadata": {
        "colab": {
          "base_uri": "https://localhost:8080/"
        },
        "id": "kEyKnTjiIepz",
        "outputId": "b5c10585-1455-4c50-acc0-a739ce5301d2"
      },
      "execution_count": 31,
      "outputs": [
        {
          "output_type": "stream",
          "name": "stdout",
          "text": [
            "do you have Bikes wheels? I predict true.\n",
            "True\n",
            "doe you car have one bike? I predict false.\n",
            "False\n"
          ]
        }
      ]
    },
    {
      "cell_type": "code",
      "source": [
        "car = \"BMW\"\n",
        "print(\"Is your car BMW? I predict True.\")\n",
        "print(car == 'BMW')"
      ],
      "metadata": {
        "colab": {
          "base_uri": "https://localhost:8080/"
        },
        "id": "WacJn30PKr-t",
        "outputId": "f54668bb-75e5-4dc7-a448-f9ea45e058d3"
      },
      "execution_count": 32,
      "outputs": [
        {
          "output_type": "stream",
          "name": "stdout",
          "text": [
            "Is your car BMW? I predict True.\n",
            "True\n"
          ]
        }
      ]
    },
    {
      "cell_type": "code",
      "source": [
        "car = 'Ford'\n",
        "print(\"Is your car Ford? I predict false.\")\n",
        "print(car == 'Toyota')"
      ],
      "metadata": {
        "colab": {
          "base_uri": "https://localhost:8080/"
        },
        "id": "sV04egBdFc4q",
        "outputId": "64f653e4-293b-47ec-e650-fae31655bf92"
      },
      "execution_count": 19,
      "outputs": [
        {
          "output_type": "stream",
          "name": "stdout",
          "text": [
            "Is your car Ford? I predict false.\n",
            "False\n"
          ]
        }
      ]
    },
    {
      "cell_type": "code",
      "source": [
        "car = 'Chevy'\n",
        "print(\"Is car Chevy? I predict false.\")\n",
        "print(car == 'chevy')"
      ],
      "metadata": {
        "colab": {
          "base_uri": "https://localhost:8080/"
        },
        "id": "Rn1xEAQ9F5cN",
        "outputId": "82af12f2-7778-4877-d088-030998c77cad"
      },
      "execution_count": 15,
      "outputs": [
        {
          "output_type": "stream",
          "name": "stdout",
          "text": [
            "Is car Ford? I predict True.\n",
            "False\n"
          ]
        }
      ]
    },
    {
      "cell_type": "code",
      "source": [
        "# end of 5-1 5 false and 5 true"
      ],
      "metadata": {
        "id": "-4j0VIRKLCEf"
      },
      "execution_count": null,
      "outputs": []
    },
    {
      "cell_type": "code",
      "source": [
        "#5-2\n",
        "sport = 'Hockey'\n",
        "print(sport == 'Hockey')\n",
        "print(sport == 'Tennis')"
      ],
      "metadata": {
        "colab": {
          "base_uri": "https://localhost:8080/"
        },
        "id": "jhBUgtcbNJKF",
        "outputId": "c8dd353f-5241-410f-aac3-5a90e65b2bc5"
      },
      "execution_count": 38,
      "outputs": [
        {
          "output_type": "stream",
          "name": "stdout",
          "text": [
            "True\n",
            "False\n"
          ]
        }
      ]
    },
    {
      "cell_type": "code",
      "source": [
        "sport = 'Football'\n",
        "print(sport != 'Football')\n",
        "print(sport != 'Soccer')"
      ],
      "metadata": {
        "colab": {
          "base_uri": "https://localhost:8080/"
        },
        "id": "RrYf227BOKmL",
        "outputId": "a60abe75-be8c-4506-e1f6-df932d95b4bf"
      },
      "execution_count": 46,
      "outputs": [
        {
          "output_type": "stream",
          "name": "stdout",
          "text": [
            "False\n",
            "True\n"
          ]
        }
      ]
    },
    {
      "cell_type": "code",
      "source": [
        "sport = 'Hockey'\n",
        "print(sport.lower() == 'hockey')\n",
        "print(sport.lower() == 'Hockey')"
      ],
      "metadata": {
        "colab": {
          "base_uri": "https://localhost:8080/"
        },
        "id": "K2J7q0cZPGRm",
        "outputId": "7ed6c235-aa87-44e4-b5cb-fb3aac12d01a"
      },
      "execution_count": 48,
      "outputs": [
        {
          "output_type": "stream",
          "name": "stdout",
          "text": [
            "True\n",
            "False\n"
          ]
        }
      ]
    },
    {
      "cell_type": "code",
      "source": [
        "height_1 = 60\n",
        "height_2 = 70\n",
        "height_3 = 70\n",
        "print(height_1 > height_2)\n",
        "print(height_2 == height_3)\n",
        "print(height_2 >= height_1)"
      ],
      "metadata": {
        "colab": {
          "base_uri": "https://localhost:8080/"
        },
        "id": "6--UShpoLIfj",
        "outputId": "ed472184-98a1-4020-cb85-f28014fec757"
      },
      "execution_count": 105,
      "outputs": [
        {
          "output_type": "stream",
          "name": "stdout",
          "text": [
            "False\n",
            "True\n",
            "True\n"
          ]
        }
      ]
    },
    {
      "cell_type": "code",
      "source": [
        "value = '4'\n",
        "value_2 = '6'\n",
        "print( value == '4' or value == '10' )\n",
        "print( value == '8' or value == '10' )\n",
        "print( value == '4' or value_2 == '6' )\n",
        "print( value == '4' and  value_2 =='6')\n",
        "print( value == '4' and value_2 == '10' )\n"
      ],
      "metadata": {
        "colab": {
          "base_uri": "https://localhost:8080/"
        },
        "id": "FZBnCrfoQnmB",
        "outputId": "36f3ee5e-5dfa-4adf-9810-7ebc7636bf22"
      },
      "execution_count": 64,
      "outputs": [
        {
          "output_type": "stream",
          "name": "stdout",
          "text": [
            "True\n",
            "False\n",
            "True\n",
            "True\n",
            "False\n"
          ]
        }
      ]
    },
    {
      "cell_type": "code",
      "source": [
        "cars = [ 'BMW', 'Ford', 'Chevy']\n",
        "'Ford' in cars"
      ],
      "metadata": {
        "colab": {
          "base_uri": "https://localhost:8080/"
        },
        "id": "hCfhDI52So2e",
        "outputId": "6711ab99-f305-4460-ace7-6de227529bc1"
      },
      "execution_count": 71,
      "outputs": [
        {
          "output_type": "execute_result",
          "data": {
            "text/plain": [
              "True"
            ]
          },
          "metadata": {},
          "execution_count": 71
        }
      ]
    },
    {
      "cell_type": "code",
      "source": [
        "cars = [ 'BMW', 'Ford', 'Chevy']\n",
        "car = \"Jeep\"\n",
        "if car not in cars:\n",
        "  print('false')\n"
      ],
      "metadata": {
        "colab": {
          "base_uri": "https://localhost:8080/"
        },
        "id": "DBBM8dSYUEP_",
        "outputId": "5dd964d3-6aa1-44ef-d905-f09a929596a8"
      },
      "execution_count": 79,
      "outputs": [
        {
          "output_type": "stream",
          "name": "stdout",
          "text": [
            "false\n"
          ]
        }
      ]
    },
    {
      "cell_type": "code",
      "source": [
        "#5-3\n",
        "alien_color = ['Green', 'Yellow', 'Red']\n",
        "if 'Green' in alien_color:\n",
        "  print(\"That's five points\")"
      ],
      "metadata": {
        "colab": {
          "base_uri": "https://localhost:8080/"
        },
        "id": "1K4xHcd1VIWN",
        "outputId": "b775ed95-dfa7-48b6-c1b4-a277af0c65ab"
      },
      "execution_count": 80,
      "outputs": [
        {
          "output_type": "stream",
          "name": "stdout",
          "text": [
            "That's five points\n"
          ]
        }
      ]
    },
    {
      "cell_type": "code",
      "source": [
        "alien_color = ['Green', 'Yellow', 'Red']\n",
        "if 'Blue' in alien_color:\n",
        "  print(\"That's five points\")"
      ],
      "metadata": {
        "id": "_axkm2ytPzFv"
      },
      "execution_count": 81,
      "outputs": []
    },
    {
      "cell_type": "code",
      "source": [
        "#5-6\n",
        "age = 1\n",
        "\n",
        "if age < 2:\n",
        "  print(\"person is a baby\")\n"
      ],
      "metadata": {
        "colab": {
          "base_uri": "https://localhost:8080/"
        },
        "id": "u7yZTNGmW3YT",
        "outputId": "cc8686b3-86b4-42e9-e162-60bbafc0f71b"
      },
      "execution_count": 92,
      "outputs": [
        {
          "output_type": "stream",
          "name": "stdout",
          "text": [
            "person is a baby\n"
          ]
        }
      ]
    },
    {
      "cell_type": "code",
      "source": [
        "age = 3\n",
        "\n",
        "if age >= 2:\n",
        "  print(\"person is a Toddler\")\n",
        "elif age < 4:\n",
        "  print(\"Not a baby\")\n",
        "else:\n",
        "  print(\"Not alive\")\n"
      ],
      "metadata": {
        "colab": {
          "base_uri": "https://localhost:8080/"
        },
        "id": "90XkorGSZ7Ah",
        "outputId": "ab2d1b6a-4112-47fe-81aa-ec7aea41b843"
      },
      "execution_count": 98,
      "outputs": [
        {
          "output_type": "stream",
          "name": "stdout",
          "text": [
            "person is a baby\n"
          ]
        }
      ]
    },
    {
      "cell_type": "code",
      "source": [
        "age = 11\n",
        "\n",
        "if age >= 4:\n",
        "  print(\"person is a kid\")\n",
        "elif age < 13:\n",
        "  print(\"Not a toddler\")\n",
        "else:\n",
        "  print(\"Not alive\")"
      ],
      "metadata": {
        "colab": {
          "base_uri": "https://localhost:8080/"
        },
        "id": "ChLFC3rBbhjc",
        "outputId": "3d32df00-5589-46ff-b4ae-e1b67c6782f7"
      },
      "execution_count": 99,
      "outputs": [
        {
          "output_type": "stream",
          "name": "stdout",
          "text": [
            "person is a kid\n"
          ]
        }
      ]
    },
    {
      "cell_type": "code",
      "source": [
        "age = 16\n",
        "\n",
        "if age >= 13:\n",
        "  print(\"person is a teenager\")\n",
        "elif age < 20:\n",
        "  print(\"Not a kid\")\n",
        "else:\n",
        "  print(\"Not alive\")"
      ],
      "metadata": {
        "colab": {
          "base_uri": "https://localhost:8080/"
        },
        "id": "6hJ4tHl8cAmp",
        "outputId": "71c3751f-9c19-44d6-c0a1-97e19ad0e9cf"
      },
      "execution_count": 100,
      "outputs": [
        {
          "output_type": "stream",
          "name": "stdout",
          "text": [
            "person is a teenager\n"
          ]
        }
      ]
    },
    {
      "cell_type": "code",
      "source": [],
      "metadata": {
        "id": "Y_ILMCnNelg4"
      },
      "execution_count": null,
      "outputs": []
    },
    {
      "cell_type": "code",
      "source": [
        "age = 52\n",
        "\n",
        "if age >= 20:\n",
        "  print(\"person is an adult\")\n",
        "elif age < 65:\n",
        "  print(\"Not a teenager\")\n",
        "else:\n",
        "  print(\"Not alive\")"
      ],
      "metadata": {
        "colab": {
          "base_uri": "https://localhost:8080/"
        },
        "id": "xCnbdV3acRit",
        "outputId": "5be4b86d-c8fe-4a01-86ae-12d091660f14"
      },
      "execution_count": 103,
      "outputs": [
        {
          "output_type": "stream",
          "name": "stdout",
          "text": [
            "person is an adult\n"
          ]
        }
      ]
    },
    {
      "cell_type": "code",
      "source": [
        "age = 66\n",
        "\n",
        "if age >= 65:\n",
        "  print(\"person is a elder\")\n",
        "elif age < 110:\n",
        "  print(\"Not an adult\")\n",
        "else:\n",
        "  print(\"Not alive\")"
      ],
      "metadata": {
        "colab": {
          "base_uri": "https://localhost:8080/"
        },
        "id": "STKhdIafcg-g",
        "outputId": "61a902ca-2260-40cd-eaa4-57a37dbcea0a"
      },
      "execution_count": 102,
      "outputs": [
        {
          "output_type": "stream",
          "name": "stdout",
          "text": [
            "person is a elder\n"
          ]
        }
      ]
    },
    {
      "cell_type": "code",
      "source": [
        "#5-12 styled :)"
      ],
      "metadata": {
        "id": "dy82yG_oc_FB"
      },
      "execution_count": null,
      "outputs": []
    },
    {
      "cell_type": "code",
      "source": [
        "#5-13\n",
        "hockey_bag = {'Skates', 'Pants', 'Helmet'}\n",
        "\n",
        "\n",
        "for i in hockey_bag:\n",
        "  if i == 'Skates':\n",
        "    print(\"Good, I dont have to worry about my skates!\")\n",
        "\n",
        "  if i == 'Pants':\n",
        "    print(\"got my Pants, One step closer to getting on the ice!\")\n",
        "\n",
        "  if i == 'Helmet':\n",
        "    print(\"Helmet on, it's go time!\")\n",
        "\n",
        "\n",
        "\n"
      ],
      "metadata": {
        "colab": {
          "base_uri": "https://localhost:8080/"
        },
        "id": "gjsDlqs7eub2",
        "outputId": "96f3f589-3c80-4004-8756-c5bfd3c8e0ff"
      },
      "execution_count": 133,
      "outputs": [
        {
          "output_type": "stream",
          "name": "stdout",
          "text": [
            "Helmet on, it's go time!\n",
            "got my Pants, One step closer to getting on the ice!\n",
            "Good, I dont have to worry about my skates!\n"
          ]
        }
      ]
    }
  ]
}