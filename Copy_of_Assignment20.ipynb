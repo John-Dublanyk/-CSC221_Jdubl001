{
  "nbformat": 4,
  "nbformat_minor": 0,
  "metadata": {
    "colab": {
      "provenance": [],
      "include_colab_link": true
    },
    "kernelspec": {
      "name": "python3",
      "display_name": "Python 3"
    },
    "language_info": {
      "name": "python"
    }
  },
  "cells": [
    {
      "cell_type": "markdown",
      "metadata": {
        "id": "view-in-github",
        "colab_type": "text"
      },
      "source": [
        "<a href=\"https://colab.research.google.com/github/John-Dublanyk/-CSC221_Jdubl001/blob/main/Copy_of_Assignment20.ipynb\" target=\"_parent\"><img src=\"https://colab.research.google.com/assets/colab-badge.svg\" alt=\"Open In Colab\"/></a>"
      ]
    },
    {
      "cell_type": "markdown",
      "source": [
        "# Assignment 20\n",
        "## CSC 221\n",
        "- John Dublanyk\n",
        "\n",
        "### Instructions:\n",
        "Fill in each code cell below the question. We are following along in Chapter 4 of Python Distilled."
      ],
      "metadata": {
        "id": "IAOUzGWE1eDx"
      }
    },
    {
      "cell_type": "code",
      "execution_count": 2,
      "metadata": {
        "id": "Gnj3su7i5-lx",
        "colab": {
          "base_uri": "https://localhost:8080/"
        },
        "outputId": "fe070929-fda2-4fa4-a328-92f557367241"
      },
      "outputs": [
        {
          "output_type": "stream",
          "name": "stdout",
          "text": [
            "19\n",
            "44.5\n",
            "asdfg13\n"
          ]
        }
      ],
      "source": [
        "# 4.1 Essential Concepts\n",
        "\n",
        "# When we write \"a + b\" in Python, the interpreter tries to execute a.__add__(b)\n",
        "\n",
        "# Show that this is true by trying the following:\n",
        "a = 6\n",
        "b = 31.5\n",
        "c = 'asdfg'\n",
        "a1 = a.__add__(13)\n",
        "b1 = b + (13)\n",
        "c1 = c.__add__('13')\n",
        "print(a1)\n",
        "print(b1)\n",
        "print(c1)\n",
        "\n",
        "# What are the types of a, b, and c?\n",
        "# A is an int\n",
        "# B is a float\n",
        "# C is a string\n",
        "\n",
        "# Explain the results\n",
        "#a.__add__(13) Adds the a value 6 plus 13 to give 19\n",
        "#b + 13 gives you the same operation as above by adding the b value 31.5 plus 13 which gives you 44.5\n",
        "#c.__add__('13') adds a sting to in front of 13 to get asdfg13"
      ]
    },
    {
      "cell_type": "code",
      "source": [
        "# 4.2 through 4.4 will be covered in the next assignment\n"
      ],
      "metadata": {
        "id": "w2uYd3DO2do6"
      },
      "execution_count": null,
      "outputs": []
    },
    {
      "cell_type": "code",
      "source": [
        "# 4.5 str and repr\n",
        "# How many categpries of printing are shown below for a datetime object?\n",
        "# There are two __str__ and __repr__\n",
        "# What in the Pythion code makes each one get callled?\n",
        "\n",
        "from datetime import date\n",
        "d = date(2023, 11, 7)\n",
        "\n",
        "print(d) # this one is __str__, it just calls (d)\n",
        "print(f'{d}') # this one is __str__, just calls (d)\n",
        "print(f'{d!s}') #this one is __str__, just calls (d)\n",
        "print(f'{d!r}') #this one is __repr__, calls datetime object.\n",
        "print(str(d)) #this one is __str__, just calls (d)\n",
        "print(repr(d)) #this one is __repr__, calls datetime object.\n",
        "print(d.__str__()) #this one is __str__, just calls (d)\n",
        "print(d.__repr__()) #this one is __repr__, calls datetime object.\n"
      ],
      "metadata": {
        "id": "Aa3ylzmV2wNF",
        "colab": {
          "base_uri": "https://localhost:8080/"
        },
        "outputId": "0601cdd7-a2aa-4a97-8df1-70e104f3c7a1"
      },
      "execution_count": 17,
      "outputs": [
        {
          "output_type": "stream",
          "name": "stdout",
          "text": [
            "2023-11-07\n",
            "2023-11-07\n",
            "2023-11-07\n",
            "datetime.date(2023, 11, 7)\n",
            "2023-11-07\n",
            "datetime.date(2023, 11, 7)\n",
            "2023-11-07\n",
            "datetime.date(2023, 11, 7)\n"
          ]
        }
      ]
    },
    {
      "cell_type": "code",
      "source": [
        "# 4.6 First-Class Objects\n",
        "# What is the significance of all objects being \"first-class\" in Python?\n",
        "# The significance of objects being first class is that you can store them as variables, pass them as arguments, return them from functions and compare them against other objects\n",
        "# Explain by typing in the code to create and use the 'items' dictionary shown in section 4.6.\n",
        "items = {\n",
        "    'number' : 42,\n",
        "    'text' : 'Hello World'\n",
        "    }\n",
        "print(items)\n",
        "# Explain each of the lines starting with '>>>' in the section.\n",
        "#>>> items['func'](-45)  #Finding the absolute value of -45\n",
        "#45\n",
        "#>>> items['mod'].sqrt(4) #Bring in math and calculates the square route\n",
        "#2.0\n",
        "#>>> try:\n",
        "#...     x = int('a lot') #First two lines are trying using try except to convert 'a lot' into an interger\n",
        "#... except items['error'] as e:   #the expect of the try except is looking for a class value error\n",
        "#...     print(\"Couldn't convert\") since it went to except we printed\n",
        "#...\n",
        "#Couldn't convert\n",
        "#>>> items['append'](100)  # In these three lines we append(add to the end) 100 to a list items\n",
        "#>>> nums #returns nums in list\n",
        "#[1, 2, 3, 4, 100]\n"
      ],
      "metadata": {
        "id": "9LRpP06Vsw6n",
        "colab": {
          "base_uri": "https://localhost:8080/"
        },
        "outputId": "fd5d4614-47dd-41ad-dfc9-706988f7a466"
      },
      "execution_count": 24,
      "outputs": [
        {
          "output_type": "stream",
          "name": "stdout",
          "text": [
            "{'number': 42, 'text': 'Hello World'}\n"
          ]
        }
      ]
    },
    {
      "cell_type": "code",
      "source": [
        "# 4.7 Using None\n",
        "# Write a function that takes two parameters and returns their sum if they are\n",
        "#  integers or returns None if either one is not.\n",
        "\n",
        "# Put in some test code to show that your function works\n",
        "\n",
        "# INSERT YOUR CODE HERE\n",
        "def func(a, b):\n",
        "  try:\n",
        "    result = a + b\n",
        "    if type(result) == (int):\n",
        "      print(result)\n",
        "  except TypeError:\n",
        "    return None\n",
        "\n",
        "\n",
        "result1 = func(1, 6)\n",
        "result2 = func('abc', 'def')\n",
        "\n",
        "print(result1)\n",
        "print(result2)\n"
      ],
      "metadata": {
        "id": "dUhRWGnCtewU",
        "colab": {
          "base_uri": "https://localhost:8080/"
        },
        "outputId": "a9ecb1e3-d3a5-4b54-ef9d-5c2ab4d4e62a"
      },
      "execution_count": 48,
      "outputs": [
        {
          "output_type": "stream",
          "name": "stdout",
          "text": [
            "7\n",
            "None\n",
            "None\n"
          ]
        }
      ]
    },
    {
      "cell_type": "code",
      "source": [
        "# 4.9 Object Protocol\n",
        "# Create a simple object that has methods for:\n",
        "#  __new__\n",
        "#  __init__\n",
        "#  __del__\n",
        "#  __repr__\n",
        "#  __str__\n",
        "\n",
        "# Put in some test code to show how and when each of these 'magic' functions gets called.\n",
        "\n",
        "# INSERT YOUR CODE HERE\n",
        "class Simple:\n",
        "    def __new__(cls, *args, **kwargs):\n",
        "        instance = super().__new__(cls)\n",
        "        return instance\n",
        "\n",
        "    def __init__(self, value):\n",
        "        self.value = value\n",
        "\n",
        "    def __del__(self):\n",
        "        print(\"del\")\n",
        "\n",
        "    def __repr__(self):\n",
        "        return f\"Repr({self.value})\"\n",
        "\n",
        "    def __str__(self):\n",
        "        return f\"Str {self.value}\"\n",
        "\n",
        "obj = Simple(42)\n",
        "\n",
        "print(repr(obj))\n",
        "print(str(obj))\n",
        "\n",
        "del obj"
      ],
      "metadata": {
        "id": "4M-CQevEt2xQ",
        "colab": {
          "base_uri": "https://localhost:8080/"
        },
        "outputId": "f36a953a-56d1-40b8-e5ba-efca4e2de3c3"
      },
      "execution_count": 63,
      "outputs": [
        {
          "output_type": "stream",
          "name": "stdout",
          "text": [
            "Repr(42)\n",
            "Str 42\n",
            "del\n"
          ]
        }
      ]
    }
  ]
}