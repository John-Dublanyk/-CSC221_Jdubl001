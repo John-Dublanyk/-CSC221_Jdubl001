{
  "nbformat": 4,
  "nbformat_minor": 0,
  "metadata": {
    "colab": {
      "provenance": [],
      "authorship_tag": "ABX9TyO0D4knupi8DMSaZTUFLAs7",
      "include_colab_link": true
    },
    "kernelspec": {
      "name": "python3",
      "display_name": "Python 3"
    },
    "language_info": {
      "name": "python"
    }
  },
  "cells": [
    {
      "cell_type": "markdown",
      "metadata": {
        "id": "view-in-github",
        "colab_type": "text"
      },
      "source": [
        "<a href=\"https://colab.research.google.com/github/John-Dublanyk/-CSC221_Jdubl001/blob/main/Assignment12.ipynb\" target=\"_parent\"><img src=\"https://colab.research.google.com/assets/colab-badge.svg\" alt=\"Open In Colab\"/></a>"
      ]
    },
    {
      "cell_type": "code",
      "execution_count": 34,
      "metadata": {
        "colab": {
          "base_uri": "https://localhost:8080/"
        },
        "id": "jsOOB7bgRGOx",
        "outputId": "2a6521e7-f1e5-4f6f-d97c-cc946ebfb6d9"
      },
      "outputs": [
        {
          "output_type": "stream",
          "name": "stdout",
          "text": [
            "Total value of all the wallets: 61.36$\n",
            "Total value of wallet1: 6.01$\n",
            "Total value of wallet2: 15.1$\n",
            "Total value of wallet3: 40.25$\n"
          ]
        }
      ],
      "source": [
        "#John Dublanyk\n",
        "#csc221\n",
        "class Money:\n",
        "    def __init__(self, value):\n",
        "        self.value = value\n",
        "\n",
        "class Bills(Money):\n",
        "    def __init__(self, value):\n",
        "        super().__init__(value)\n",
        "\n",
        "class Coins(Money):\n",
        "    def __init__(self, value):\n",
        "        super().__init__(value)\n",
        "\n",
        "class One(Bills):\n",
        "    def __init__(self):\n",
        "        super().__init__(1)\n",
        "\n",
        "class Five(Bills):\n",
        "    def __init__(self):\n",
        "        super().__init__(5)\n",
        "\n",
        "class Ten(Bills):\n",
        "    def __init__(self):\n",
        "        super().__init__(10)\n",
        "\n",
        "class Twenty(Bills):\n",
        "    def __init__(self):\n",
        "        super().__init__(20)\n",
        "\n",
        "class Penny(Coins):\n",
        "    def __init__(self):\n",
        "        super().__init__(0.01)\n",
        "\n",
        "class Nickel(Coins):\n",
        "    def __init__(self):\n",
        "        super().__init__(0.05)\n",
        "\n",
        "class Dime(Coins):\n",
        "    def __init__(self):\n",
        "        super().__init__(0.10)\n",
        "\n",
        "class Quarter(Coins):\n",
        "    def __init__(self):\n",
        "        super().__init__(0.25)\n",
        "\n",
        "def calculate_total(money_list):\n",
        "    total = 0\n",
        "    for money in money_list:\n",
        "        total += money.value\n",
        "    return total\n",
        "\n",
        "\n",
        "wallet1 = [One(), Five(), Penny(),]\n",
        "wallet2 = [Five(), Ten(), Dime()]\n",
        "wallet3 = [Twenty(), Twenty(), Quarter()]\n",
        "\n",
        "total_value1 = calculate_total(wallet1)\n",
        "total_value2 = calculate_total(wallet2)\n",
        "total_value3 = calculate_total(wallet3)\n",
        "\n",
        "print(f\"Total value of all the wallets: {total_value1 + total_value2 + total_value3 }$\")\n",
        "print(f\"Total value of wallet1: {total_value1}$\")\n",
        "print(f\"Total value of wallet2: {total_value2}$\")\n",
        "print(f\"Total value of wallet3: {total_value3}$\")\n",
        "\n",
        "\n"
      ]
    },
    {
      "cell_type": "code",
      "source": [
        "\"\"\" Created three tests to check the values of the wallets against my values \"\"\"\n",
        "#test 1\n",
        "if total_value1 == 6.01:\n",
        "  print('pass')\n",
        "else:\n",
        "  print('false')\n",
        "#test 2\n",
        "if total_value2 == 15:\n",
        "  print('pass')\n",
        "else:\n",
        "  print('false')\n",
        "#test 3\n",
        "if total_value3 == 40.25:\n",
        "  print('pass')\n",
        "else:\n",
        "  print('false')\n"
      ],
      "metadata": {
        "colab": {
          "base_uri": "https://localhost:8080/"
        },
        "id": "koLYCskPBakt",
        "outputId": "8a224c57-98c8-4708-9134-04d4923ef429"
      },
      "execution_count": 35,
      "outputs": [
        {
          "output_type": "stream",
          "name": "stdout",
          "text": [
            "pass\n",
            "false\n",
            "pass\n"
          ]
        }
      ]
    }
  ]
}