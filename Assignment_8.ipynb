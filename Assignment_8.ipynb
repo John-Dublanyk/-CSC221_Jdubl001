{
  "nbformat": 4,
  "nbformat_minor": 0,
  "metadata": {
    "colab": {
      "provenance": [],
      "authorship_tag": "ABX9TyPj5uSqarvRqXslRr0h+DDk",
      "include_colab_link": true
    },
    "kernelspec": {
      "name": "python3",
      "display_name": "Python 3"
    },
    "language_info": {
      "name": "python"
    }
  },
  "cells": [
    {
      "cell_type": "markdown",
      "metadata": {
        "id": "view-in-github",
        "colab_type": "text"
      },
      "source": [
        "<a href=\"https://colab.research.google.com/github/John-Dublanyk/-CSC221_Jdubl001/blob/main/Assignment_8.ipynb\" target=\"_parent\"><img src=\"https://colab.research.google.com/assets/colab-badge.svg\" alt=\"Open In Colab\"/></a>"
      ]
    },
    {
      "cell_type": "code",
      "source": [
        "#John Dublanyk\n",
        "#CSC221\n",
        "#assignment 8"
      ],
      "metadata": {
        "id": "bSHTJDfcpL50"
      },
      "execution_count": null,
      "outputs": []
    },
    {
      "cell_type": "code",
      "execution_count": 1,
      "metadata": {
        "colab": {
          "base_uri": "https://localhost:8080/"
        },
        "id": "WpjaxFYyDq05",
        "outputId": "346c6521-8c11-4f6a-f997-7fb268a1e681"
      },
      "outputs": [
        {
          "output_type": "stream",
          "name": "stdout",
          "text": [
            "tell me something, and I will repeat it back to you: Hello everybody!\n",
            "Hello everybody!\n"
          ]
        }
      ],
      "source": [
        "#example\n",
        "message = input(\"tell me something, and I will repeat it back to you: \")\n",
        "print(message)"
      ]
    },
    {
      "cell_type": "code",
      "source": [
        "#example\n",
        "name = input(\"please enter your name: \")\n",
        "print(f\"\\nHello, {name}!\")"
      ],
      "metadata": {
        "colab": {
          "base_uri": "https://localhost:8080/"
        },
        "id": "jkExVuCrEtWs",
        "outputId": "d4623a7b-3f3d-47d0-c2d6-8642535102e1"
      },
      "execution_count": 2,
      "outputs": [
        {
          "output_type": "stream",
          "name": "stdout",
          "text": [
            "please enter your name: John\n",
            "\n",
            "Hello, John!\n"
          ]
        }
      ]
    },
    {
      "cell_type": "code",
      "source": [
        "#example\n",
        "number = input(\"enter a number, and I'll tell you if it even or odd: \")\n",
        "number = int(number)\n",
        "\n",
        "if number % 2 == 0:\n",
        "  print(f\"\\nThe number {number} is even\")\n",
        "else:\n",
        "  print(f\"\\nThe number {number} is odd\")"
      ],
      "metadata": {
        "colab": {
          "base_uri": "https://localhost:8080/"
        },
        "id": "nMzglHaMFH_H",
        "outputId": "94d9740f-b43a-423c-d037-ce325006c8f0"
      },
      "execution_count": 4,
      "outputs": [
        {
          "output_type": "stream",
          "name": "stdout",
          "text": [
            "enter a number, and I'll tell you if it even or odd: 5\n",
            "\n",
            "The number 5 is odd\n"
          ]
        }
      ]
    },
    {
      "cell_type": "code",
      "source": [
        "#example\n",
        "prompt = \"\\nPlease enter the name of a city you have visited:\"\n",
        "prompt += \"\\n(Enter 'quit' when you are finished.) \"\n",
        "while True:\n",
        "  city = input(prompt)\n",
        "  if city == 'quit':\n",
        "    break\n",
        "  else:\n",
        "    print(f\"I'd love to go to {city.title()}!\")"
      ],
      "metadata": {
        "colab": {
          "base_uri": "https://localhost:8080/"
        },
        "id": "4Nwa-QnHF_un",
        "outputId": "6d9c6e35-7f4a-4bf6-d9e0-5b0502205949"
      },
      "execution_count": 6,
      "outputs": [
        {
          "name": "stdout",
          "output_type": "stream",
          "text": [
            "\n",
            "Please enter the name of a city you have visited:\n",
            "(Enter 'quit' when you are finished.) Montreal\n",
            "I'd love to go to Montreal!\n",
            "\n",
            "Please enter the name of a city you have visited:\n",
            "(Enter 'quit' when you are finished.) NYC\n",
            "I'd love to go to Nyc!\n",
            "\n",
            "Please enter the name of a city you have visited:\n",
            "(Enter 'quit' when you are finished.) quit\n"
          ]
        }
      ]
    },
    {
      "cell_type": "code",
      "source": [
        "#7-1\n",
        "rental = input(\"What kind of car do you want: \")\n",
        "print(f\"\\nLet me see if I can find you a {rental}\")"
      ],
      "metadata": {
        "colab": {
          "base_uri": "https://localhost:8080/"
        },
        "id": "ceLutMgLIZpr",
        "outputId": "420a6f78-0a63-477a-ee42-75acc31787c2"
      },
      "execution_count": 8,
      "outputs": [
        {
          "output_type": "stream",
          "name": "stdout",
          "text": [
            "What kind of car do you want: Honda\n",
            "\n",
            "Let me see if I can find you a Honda\n"
          ]
        }
      ]
    },
    {
      "cell_type": "code",
      "source": [
        "#7-3\n",
        "number = input(\"Enter a number: \")\n",
        "number = int(number)\n",
        "\n",
        "if number % 10 == 0:\n",
        "  print(f\"\\nThe number {number} is a multiple of 10\")\n",
        "else:\n",
        "  print(f\"\\nThe number {number} is not a multiple of 10\")"
      ],
      "metadata": {
        "colab": {
          "base_uri": "https://localhost:8080/"
        },
        "id": "gn165iouJ3js",
        "outputId": "8c75dc5e-7075-4d74-b0bb-11d34631c32f"
      },
      "execution_count": 12,
      "outputs": [
        {
          "output_type": "stream",
          "name": "stdout",
          "text": [
            "Enter a number: 100\n",
            "\n",
            "The number 100 is a multiple of 10\n"
          ]
        }
      ]
    },
    {
      "cell_type": "code",
      "source": [
        "#7-5\n",
        "age = input(\"How old are you: \")\n",
        "age = int(age)\n",
        "\n",
        "while True:\n",
        "    if age < 3:\n",
        "      print(\"The ticket is free!\")\n",
        "      break\n",
        "    elif 3 <= age <= 12:\n",
        "      print(\"The ticket is 10 dollars!\")\n",
        "      break\n",
        "    elif age > 12:\n",
        "      print(\"The ticket is 15 dollars!\")\n",
        "      break\n",
        "\n",
        "\n",
        "\n"
      ],
      "metadata": {
        "colab": {
          "base_uri": "https://localhost:8080/"
        },
        "id": "9hlzJiYKLnUZ",
        "outputId": "3c70b3ea-126a-45e2-d96c-513f72267ce9"
      },
      "execution_count": 36,
      "outputs": [
        {
          "output_type": "stream",
          "name": "stdout",
          "text": [
            "How old are you: 10\n",
            "The ticket is 10 dollars!\n"
          ]
        }
      ]
    },
    {
      "cell_type": "code",
      "source": [
        "#7-6\n",
        "age = input(\"How old are you: \")\n",
        "\n",
        "\n",
        "while True:\n",
        "    if age == \"quit\":\n",
        "      break\n",
        "\n",
        "    age = int(age)\n",
        "\n",
        "    if age < 3:\n",
        "      print(\"The ticket is free!\")\n",
        "      break\n",
        "    elif 3 <= age <= 12:\n",
        "      print(\"The ticket is 10 dollars!\")\n",
        "      break\n",
        "    elif 12 < age <99:\n",
        "      print(\"The ticket is 15 dollars!\")\n",
        "      break\n"
      ],
      "metadata": {
        "colab": {
          "base_uri": "https://localhost:8080/"
        },
        "id": "Id43vF7-Vn4m",
        "outputId": "caa625e1-732b-4c39-9992-9cc2a50dc212"
      },
      "execution_count": 52,
      "outputs": [
        {
          "name": "stdout",
          "output_type": "stream",
          "text": [
            "How old are you: quit\n"
          ]
        }
      ]
    },
    {
      "cell_type": "code",
      "source": [
        "#7-6\n",
        "age = input(\"How old are you: \")\n",
        "age = int(age)\n",
        "\n",
        "while True:\n",
        "\n",
        "\n",
        "\n",
        "    if age < 3:\n",
        "      print(\"The ticket is free!\")\n",
        "      break\n",
        "    elif 3 <= age <= 12:\n",
        "      print(\"The ticket is 10 dollars!\")\n",
        "      break\n",
        "    elif 12 < age <99:\n",
        "      print(\"The ticket is 15 dollars!\")\n",
        "      break\n",
        "    elif age == 100:\n",
        "      break"
      ],
      "metadata": {
        "colab": {
          "base_uri": "https://localhost:8080/"
        },
        "id": "LoRRhEZ1c-AP",
        "outputId": "e7259d15-71b1-4c84-9271-02c08b358a5d"
      },
      "execution_count": 58,
      "outputs": [
        {
          "name": "stdout",
          "output_type": "stream",
          "text": [
            "How old are you: 100\n"
          ]
        }
      ]
    },
    {
      "cell_type": "code",
      "source": [
        "#7-6\n",
        "age = input(\"How old are you: \")\n",
        "\n",
        "active = True\n",
        "while active:\n",
        "  if age == 'quit':\n",
        "    active = False\n",
        "    break\n",
        "\n",
        "    age = int(age)\n",
        "\n",
        "    if age < 3:\n",
        "      print(\"The ticket is free!\")\n",
        "      break\n",
        "    elif 3 <= age <= 12:\n",
        "      print(\"The ticket is 10 dollars!\")\n",
        "      break\n",
        "    elif 12 < age <99:\n",
        "      print(\"The ticket is 15 dollars!\")\n",
        "      break\n",
        ""
      ],
      "metadata": {
        "colab": {
          "base_uri": "https://localhost:8080/"
        },
        "id": "mOehmdBEdbrN",
        "outputId": "0348e38b-7d10-4264-a5b0-54c147b9789a"
      },
      "execution_count": 59,
      "outputs": [
        {
          "name": "stdout",
          "output_type": "stream",
          "text": [
            "How old are you: quit\n"
          ]
        }
      ]
    },
    {
      "cell_type": "code",
      "source": [
        "#7-8\n",
        "sandwich_order = ['Turkey', 'Tuna', 'Ham', 'Meatball']\n",
        "finished_sandwich = []\n",
        "\n",
        "while sandwich_order:\n",
        "  order = sandwich_order.pop(0)\n",
        "  print(f\"I made your {order} sandwhich\")\n",
        "  finished_sandwich.append(order)\n",
        "print(finished_sandwich)\n",
        "print(sandwich_order)"
      ],
      "metadata": {
        "colab": {
          "base_uri": "https://localhost:8080/"
        },
        "id": "VNj6yR8DfRcx",
        "outputId": "48247a74-810c-40af-d7cb-146acb0a873c"
      },
      "execution_count": 62,
      "outputs": [
        {
          "output_type": "stream",
          "name": "stdout",
          "text": [
            "I made your Turkey sandwhich\n",
            "I made your Tuna sandwhich\n",
            "I made your Ham sandwhich\n",
            "I made your Meatball sandwhich\n",
            "['Turkey', 'Tuna', 'Ham', 'Meatball']\n",
            "[]\n"
          ]
        }
      ]
    },
    {
      "cell_type": "code",
      "source": [
        "\n",
        "total = 0\n",
        "\n",
        "while True:\n",
        "  number = input(\"Entera number or type quit to exit: \")\n",
        "\n",
        "  if number == \"quit\":\n",
        "    break\n",
        "\n",
        "  operators = input(\"Enter operator +, -, *, or /: \")\n",
        "\n",
        "  if operators == '+':\n",
        "    total += float(number)\n",
        "  elif operators == '-':\n",
        "    total -= float(number)\n",
        "  elif operators == '*':\n",
        "    total *= float(number)\n",
        "  elif operators == '/':\n",
        "    total /= float(number)\n",
        "\n",
        "  print(f\"total: {total}\")\n",
        "\n",
        "\n",
        "\n"
      ],
      "metadata": {
        "colab": {
          "base_uri": "https://localhost:8080/"
        },
        "id": "fv8dUBylipgX",
        "outputId": "2e53c416-c7a7-459c-b584-1f7317d850e7"
      },
      "execution_count": 67,
      "outputs": [
        {
          "name": "stdout",
          "output_type": "stream",
          "text": [
            "Entera number or type quit to exit: 10\n",
            "Enter operator +, -, *, or /: -\n",
            "total: -10.0\n",
            "Entera number or type quit to exit: 10\n",
            "Enter operator +, -, *, or /: *\n",
            "total: -100.0\n",
            "Entera number or type quit to exit: 300\n",
            "Enter operator +, -, *, or /: +\n",
            "total: 200.0\n",
            "Entera number or type quit to exit: quit\n"
          ]
        }
      ]
    }
  ]
}