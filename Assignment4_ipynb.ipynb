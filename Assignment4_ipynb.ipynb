{
  "nbformat": 4,
  "nbformat_minor": 0,
  "metadata": {
    "colab": {
      "provenance": [],
      "authorship_tag": "ABX9TyMs+qldGJ7Mh6XvwAr4KOY6",
      "include_colab_link": true
    },
    "kernelspec": {
      "name": "python3",
      "display_name": "Python 3"
    },
    "language_info": {
      "name": "python"
    }
  },
  "cells": [
    {
      "cell_type": "markdown",
      "metadata": {
        "id": "view-in-github",
        "colab_type": "text"
      },
      "source": [
        "<a href=\"https://colab.research.google.com/github/John-Dublanyk/-CSC221_Jdubl001/blob/main/Assignment4_ipynb.ipynb\" target=\"_parent\"><img src=\"https://colab.research.google.com/assets/colab-badge.svg\" alt=\"Open In Colab\"/></a>"
      ]
    },
    {
      "cell_type": "code",
      "execution_count": 6,
      "metadata": {
        "colab": {
          "base_uri": "https://localhost:8080/"
        },
        "id": "sMh2p79LixNt",
        "outputId": "9b3f5059-6a84-4a46-db5e-9669ddca3385"
      },
      "outputs": [
        {
          "output_type": "stream",
          "name": "stdout",
          "text": [
            "Garrett\n",
            "Nolan\n",
            "Josh\n",
            "Greyson\n"
          ]
        }
      ],
      "source": [
        "#3-1\n",
        "names = ['Garrett', 'Nolan', 'Josh', 'Greyson']\n",
        "print(names[0])\n",
        "print(names[1])\n",
        "print(names[2])\n",
        "print(names[3])"
      ]
    },
    {
      "cell_type": "code",
      "source": [
        "#3-2\n",
        "names = ['Garrett', 'Nolan', 'Josh', 'Greyson']\n",
        "message = \" Hello {}, how are you doing?\"\n",
        "\n",
        "for name in names:\n",
        "  message_1 = message.format(name)\n",
        "  print(message_1)\n"
      ],
      "metadata": {
        "colab": {
          "base_uri": "https://localhost:8080/"
        },
        "id": "zDnuejmDkLuZ",
        "outputId": "5861820a-6bdc-4aea-954d-74f1ca969f39"
      },
      "execution_count": 22,
      "outputs": [
        {
          "output_type": "stream",
          "name": "stdout",
          "text": [
            " Hello Garrett, how are you doing?\n",
            " Hello Nolan, how are you doing?\n",
            " Hello Josh, how are you doing?\n",
            " Hello Greyson, how are you doing?\n"
          ]
        }
      ]
    },
    {
      "cell_type": "code",
      "source": [
        "#3-3\n",
        "transportations = ['Car', 'Motorcycle', 'Bike', 'bus']\n",
        "message = \" I really like commuting {}.\"\n",
        "\n",
        "for transportation in transportations:\n",
        "  message_1 = message.format(transportation)\n",
        "  print(message_1)"
      ],
      "metadata": {
        "colab": {
          "base_uri": "https://localhost:8080/"
        },
        "id": "eQQDkxodCUnY",
        "outputId": "d617866a-d5ea-46ac-d75a-ee94a040e1f1"
      },
      "execution_count": 27,
      "outputs": [
        {
          "output_type": "stream",
          "name": "stdout",
          "text": [
            " I really like commuting Car.\n",
            " I really like commuting Motorcycle.\n",
            " I really like commuting Bike.\n",
            " I really like commuting bus.\n"
          ]
        }
      ]
    },
    {
      "cell_type": "code",
      "source": [
        "#3-4\n",
        "guests = ['Scott Dublanyk', 'Professor Lecky', 'Albert Einstein']\n",
        "message = \"Hello {}, would you like to come to dinner?\"\n",
        "\n",
        "for guest in guests:\n",
        "  message_1 = message.format(guest)\n",
        "  print(message_1)"
      ],
      "metadata": {
        "colab": {
          "base_uri": "https://localhost:8080/"
        },
        "id": "W1KO4CWoGaG9",
        "outputId": "3874029e-7630-4d1e-e50b-3e8889e86a4a"
      },
      "execution_count": 28,
      "outputs": [
        {
          "output_type": "stream",
          "name": "stdout",
          "text": [
            " Hello Scott Dublanyk, would you like to come to dinner?\n",
            " Hello Professor Lecky, would you like to come to dinner?\n",
            " Hello Albert Einstein, would you like to come to dinner?\n"
          ]
        }
      ]
    },
    {
      "cell_type": "code",
      "source": [
        "#3-5\n",
        "guests = ['Scott Dublanyk', 'Professor Lecky', 'Albert Einstein']\n",
        "message = \"Hello {}, would you like to come to dinner?\"\n",
        "\n",
        "for guest in guests:\n",
        "  message_1 = message.format(guest)\n",
        "  print(message_1)\n",
        "  message_2 = f\"{guests[0]} can not make it.\"\n",
        "print(message_2)\n",
        "\n"
      ],
      "metadata": {
        "colab": {
          "base_uri": "https://localhost:8080/"
        },
        "id": "Mhcf1eDaIpF_",
        "outputId": "a4e20ce6-d336-4fd3-acc6-5dde4659658d"
      },
      "execution_count": 33,
      "outputs": [
        {
          "output_type": "stream",
          "name": "stdout",
          "text": [
            "Hello Scott Dublanyk, would you like to come to dinner?\n",
            "Hello Professor Lecky, would you like to come to dinner?\n",
            "Hello Albert Einstein, would you like to come to dinner?\n",
            "Scott Dublanyk can not make it.\n"
          ]
        }
      ]
    },
    {
      "cell_type": "code",
      "source": [
        "#3-5\n",
        "guests = ['Scott Dublanyk', 'Professor Lecky', 'Albert Einstein']\n",
        "message = \"Hello {}, would you like to come to dinner?\"\n",
        "guests.remove('Scott Dublanyk')\n",
        "guests.append('Tom Brady')\n",
        "\n",
        "for guest in guests:\n",
        "  message_1 = message.format(guest)\n",
        "  print(message_1)\n",
        ""
      ],
      "metadata": {
        "colab": {
          "base_uri": "https://localhost:8080/"
        },
        "id": "s3BYIJgqO_4U",
        "outputId": "4ea28878-4ee2-4d87-d4de-afc530da3245"
      },
      "execution_count": 40,
      "outputs": [
        {
          "output_type": "stream",
          "name": "stdout",
          "text": [
            "Hello Professor Lecky, would you like to come to dinner?\n",
            "Hello Albert Einstein, would you like to come to dinner?\n",
            "Hello Tom Brady, would you like to come to dinner?\n"
          ]
        }
      ]
    },
    {
      "cell_type": "code",
      "source": [
        "3-6\n",
        "guests = ['Tom brady', 'Professor Lecky', 'Albert Einstein']\n",
        "message = \"Hello {}, would you like to come to dinner?\"\n",
        "guests.insert(0,'Dwayne Johnson')\n",
        "guests.insert(2,'Betty White')\n",
        "guests.append('Eric Clapton')\n",
        "\n",
        "for guest in guests:\n",
        "  message_1 = message.format(guest)\n",
        "  print(message_1)\n"
      ],
      "metadata": {
        "colab": {
          "base_uri": "https://localhost:8080/"
        },
        "id": "BhqDbOkiREzG",
        "outputId": "3fd0d578-79d4-4e08-b2e9-fd00c1e399f2"
      },
      "execution_count": 46,
      "outputs": [
        {
          "output_type": "stream",
          "name": "stdout",
          "text": [
            "Hello Dwayne Johnson, would you like to come to dinner?\n",
            "Hello Tom brady, would you like to come to dinner?\n",
            "Hello Betty White, would you like to come to dinner?\n",
            "Hello Professor Lecky, would you like to come to dinner?\n",
            "Hello Albert Einstein, would you like to come to dinner?\n",
            "Hello Eric Clapton, would you like to come to dinner?\n"
          ]
        }
      ]
    },
    {
      "cell_type": "code",
      "source": [
        "#3-7\n",
        "guests = ['Tom brady', 'Professor Lecky', 'Albert Einstein']\n",
        "message = \"Hello {}, would you like to come to dinner?\"\n",
        "guests.insert(0,'Dwayne Johnson')\n",
        "guests.insert(2,'Betty White')\n",
        "guests.append('Eric Clapton')\n",
        "\n",
        "for guest in guests:\n",
        "  message_1 = message.format(guest)\n",
        "  print(message_1)\n",
        "  print(\"I am sorry, but the big table did not come in.\")\n"
      ],
      "metadata": {
        "colab": {
          "base_uri": "https://localhost:8080/"
        },
        "id": "CzCTDh_WYVYH",
        "outputId": "95fcf3b4-d1f5-4009-a088-ef3d19c9f55c"
      },
      "execution_count": 48,
      "outputs": [
        {
          "output_type": "stream",
          "name": "stdout",
          "text": [
            "Hello Dwayne Johnson, would you like to come to dinner?\n",
            "I am sorry, but the big table did not come in.\n",
            "Hello Tom brady, would you like to come to dinner?\n",
            "I am sorry, but the big table did not come in.\n",
            "Hello Betty White, would you like to come to dinner?\n",
            "I am sorry, but the big table did not come in.\n",
            "Hello Professor Lecky, would you like to come to dinner?\n",
            "I am sorry, but the big table did not come in.\n",
            "Hello Albert Einstein, would you like to come to dinner?\n",
            "I am sorry, but the big table did not come in.\n",
            "Hello Eric Clapton, would you like to come to dinner?\n",
            "I am sorry, but the big table did not come in.\n"
          ]
        }
      ]
    },
    {
      "cell_type": "code",
      "source": [
        "\n",
        "#3-7\n",
        "guests = ['Tom Brady', 'Professor Lecky', 'Albert Einstein', 'Dwayne Johnson', 'Betty White', 'Eric Clapton']\n",
        "Guest_list = guests.pop(0)\n",
        "print(f\"I am sorry {Guest_list}, you can not come.\")\n",
        "Guest_list = guests.pop(3)\n",
        "print(f\"I am sorry {Guest_list}, you can not come.\")\n",
        "Guest_list = guests.pop(2)\n",
        "print(f\"I am sorry {Guest_list}, you can not come.\")\n",
        "Guest_list = guests.pop(2)\n",
        "print(f\"I am sorry {Guest_list}, you can not come.\")\n"
      ],
      "metadata": {
        "colab": {
          "base_uri": "https://localhost:8080/"
        },
        "id": "nvGhjVxaWb_H",
        "outputId": "652fc6d7-ae93-473e-8be1-db0689fc4b20"
      },
      "execution_count": 62,
      "outputs": [
        {
          "output_type": "stream",
          "name": "stdout",
          "text": [
            "I am sorry Tom Brady, you can not come.\n",
            "I am sorry Betty White, you can not come.\n",
            "I am sorry Dwayne Johnson, you can not come.\n",
            "I am sorry Eric Clapton, you can not come.\n"
          ]
        }
      ]
    },
    {
      "cell_type": "code",
      "source": [
        "#3-7\n",
        "guests = ['Professor Lecky', 'Albert Einstein']\n",
        "message = \"Hello {},you are still invited\"\n",
        "\n",
        "for guest in guests:\n",
        "  message_1 = message.format(guest)\n",
        "  print(message_1)"
      ],
      "metadata": {
        "colab": {
          "base_uri": "https://localhost:8080/"
        },
        "id": "xsCd29m9ccK4",
        "outputId": "1763a85d-9417-4995-9a40-9cdd5e925cc1"
      },
      "execution_count": 63,
      "outputs": [
        {
          "output_type": "stream",
          "name": "stdout",
          "text": [
            "Hello Professor Lecky,you are still invited\n",
            "Hello Albert Einstein,you are still invited\n"
          ]
        }
      ]
    },
    {
      "cell_type": "code",
      "source": [
        "3-7\n",
        "guests = ['Professor Lecky', 'Albert Einstein']\n",
        "print(guests)\n",
        "\n",
        "del guests[0]\n",
        "print(guests)\n",
        "del guests [0]\n",
        "print(guests)"
      ],
      "metadata": {
        "colab": {
          "base_uri": "https://localhost:8080/"
        },
        "id": "6JFyKOakdM5i",
        "outputId": "69a0e07c-17c8-4b18-c36e-f9a9d500c9ed"
      },
      "execution_count": 70,
      "outputs": [
        {
          "output_type": "stream",
          "name": "stdout",
          "text": [
            "['Professor Lecky', 'Albert Einstein']\n",
            "['Albert Einstein']\n",
            "[]\n"
          ]
        }
      ]
    },
    {
      "cell_type": "code",
      "source": [
        "#3-8\n",
        "visit = ['Washington', 'Africa', 'South America', 'Russia', 'Japan']\n",
        "print(visit)"
      ],
      "metadata": {
        "colab": {
          "base_uri": "https://localhost:8080/"
        },
        "id": "hmuidWA2ecox",
        "outputId": "0d1e2f5e-f306-458f-aa50-8615874b0fc3"
      },
      "execution_count": 83,
      "outputs": [
        {
          "output_type": "stream",
          "name": "stdout",
          "text": [
            "['Washington', 'Africa', 'South America', 'Russia', 'Japan']\n"
          ]
        }
      ]
    },
    {
      "cell_type": "code",
      "source": [
        "visit = ['Washington', 'Africa', 'South America', 'Russia', 'Japan']\n",
        "print(sorted(visit))\n",
        "print(sorted(visit, reverse=True))"
      ],
      "metadata": {
        "colab": {
          "base_uri": "https://localhost:8080/"
        },
        "id": "ICxWJTbwfgT5",
        "outputId": "850eca0a-70a9-450c-ec5c-4100fa9a1d6f"
      },
      "execution_count": 90,
      "outputs": [
        {
          "output_type": "stream",
          "name": "stdout",
          "text": [
            "['Africa', 'Japan', 'Russia', 'South America', 'Washington']\n",
            "['Washington', 'South America', 'Russia', 'Japan', 'Africa']\n"
          ]
        }
      ]
    },
    {
      "cell_type": "code",
      "source": [
        "3-8\n",
        "visit = ['Washington', 'Africa', 'South America', 'Russia', 'Japan']\n",
        "visit.reverse()\n",
        "print(visit)\n",
        "visit.reverse()\n",
        "print(visit)"
      ],
      "metadata": {
        "colab": {
          "base_uri": "https://localhost:8080/"
        },
        "id": "zRU7mvR8i8rg",
        "outputId": "e9916831-08e2-4f3a-9956-a273bb7a4c09"
      },
      "execution_count": 92,
      "outputs": [
        {
          "output_type": "stream",
          "name": "stdout",
          "text": [
            "['Japan', 'Russia', 'South America', 'Africa', 'Washington']\n",
            "['Washington', 'Africa', 'South America', 'Russia', 'Japan']\n"
          ]
        }
      ]
    },
    {
      "cell_type": "code",
      "source": [
        "3-8\n",
        "visit = ['Washington', 'Africa', 'South America', 'Russia', 'Japan']\n",
        "visit.sort()\n",
        "print(visit)\n",
        "\n",
        "visit.sort(reverse=True)\n",
        "print(visit)"
      ],
      "metadata": {
        "colab": {
          "base_uri": "https://localhost:8080/"
        },
        "id": "MkW9Nvj4lNFs",
        "outputId": "30734998-4c1f-4678-8145-599230ddf9cf"
      },
      "execution_count": 93,
      "outputs": [
        {
          "output_type": "stream",
          "name": "stdout",
          "text": [
            "['Africa', 'Japan', 'Russia', 'South America', 'Washington']\n",
            "['Washington', 'South America', 'Russia', 'Japan', 'Africa']\n"
          ]
        }
      ]
    },
    {
      "cell_type": "code",
      "source": [
        "3-9\n",
        "guests = ['Scott Dublanyk', 'Professor Lecky', 'Albert Einstein']\n",
        "message = \"Hello {}, would you like to come to dinner?\"\n",
        "invited = len(guests)\n",
        "print(f\"This is the number of guests {invited}\")\n",
        "\n",
        "for guest in guests:\n",
        "  message_1 = message.format(guest)\n",
        "  print(message_1)"
      ],
      "metadata": {
        "colab": {
          "base_uri": "https://localhost:8080/"
        },
        "id": "VtTKvzrhmT0e",
        "outputId": "71fa448f-a255-435e-f51a-3350c4649e07"
      },
      "execution_count": 98,
      "outputs": [
        {
          "output_type": "stream",
          "name": "stdout",
          "text": [
            "This is the number of guests 3\n",
            "Hello Scott Dublanyk, would you like to come to dinner?\n",
            "Hello Professor Lecky, would you like to come to dinner?\n",
            "Hello Albert Einstein, would you like to come to dinner?\n"
          ]
        }
      ]
    },
    {
      "cell_type": "code",
      "source": [
        "#3-11\n",
        "#  I had an index error 3-7 because I was trying to pop (4) using the original list, but ther were only 3 people in the list."
      ],
      "metadata": {
        "id": "DOUysY9sn5Wv"
      },
      "execution_count": null,
      "outputs": []
    },
    {
      "cell_type": "code",
      "source": [
        "cubes = [x**3 for range in (60,86) x == 7]\n",
        "print(cubes)"
      ],
      "metadata": {
        "colab": {
          "base_uri": "https://localhost:8080/",
          "height": 141
        },
        "id": "IT11-GwkpTTG",
        "outputId": "de08e15a-b6c8-4bbb-e00c-5f77828515d8"
      },
      "execution_count": 108,
      "outputs": [
        {
          "output_type": "error",
          "ename": "SyntaxError",
          "evalue": "ignored",
          "traceback": [
            "\u001b[0;36m  File \u001b[0;32m\"<ipython-input-108-b87e00646e59>\"\u001b[0;36m, line \u001b[0;32m1\u001b[0m\n\u001b[0;31m    cubes = [x**3 for range in (60,86) x == 7]\u001b[0m\n\u001b[0m                                       ^\u001b[0m\n\u001b[0;31mSyntaxError\u001b[0m\u001b[0;31m:\u001b[0m invalid syntax\n"
          ]
        }
      ]
    },
    {
      "cell_type": "code",
      "source": [
        "numbers = [40, 50, 120, -8, 6]\n",
        "y = []\n",
        "for number in numbers:\n",
        "  equation = 7.4*numbers + 51"
      ],
      "metadata": {
        "colab": {
          "base_uri": "https://localhost:8080/",
          "height": 211
        },
        "id": "MWvGyGwargSy",
        "outputId": "3765939a-4109-47e5-a677-0e03c6ddf686"
      },
      "execution_count": 110,
      "outputs": [
        {
          "output_type": "error",
          "ename": "TypeError",
          "evalue": "ignored",
          "traceback": [
            "\u001b[0;31m---------------------------------------------------------------------------\u001b[0m",
            "\u001b[0;31mTypeError\u001b[0m                                 Traceback (most recent call last)",
            "\u001b[0;32m<ipython-input-110-fb81c51fc64d>\u001b[0m in \u001b[0;36m<cell line: 3>\u001b[0;34m()\u001b[0m\n\u001b[1;32m      2\u001b[0m \u001b[0my\u001b[0m \u001b[0;34m=\u001b[0m \u001b[0;34m[\u001b[0m\u001b[0;34m]\u001b[0m\u001b[0;34m\u001b[0m\u001b[0;34m\u001b[0m\u001b[0m\n\u001b[1;32m      3\u001b[0m \u001b[0;32mfor\u001b[0m \u001b[0mnumber\u001b[0m \u001b[0;32min\u001b[0m \u001b[0mnumbers\u001b[0m\u001b[0;34m:\u001b[0m\u001b[0;34m\u001b[0m\u001b[0;34m\u001b[0m\u001b[0m\n\u001b[0;32m----> 4\u001b[0;31m   \u001b[0mequation\u001b[0m \u001b[0;34m=\u001b[0m \u001b[0;34m(\u001b[0m\u001b[0;36m7.4\u001b[0m\u001b[0;34m*\u001b[0m\u001b[0mnumbers\u001b[0m \u001b[0;34m+\u001b[0m \u001b[0;36m51\u001b[0m\u001b[0;34m)\u001b[0m\u001b[0;34m\u001b[0m\u001b[0;34m\u001b[0m\u001b[0m\n\u001b[0m",
            "\u001b[0;31mTypeError\u001b[0m: can't multiply sequence by non-int of type 'float'"
          ]
        }
      ]
    },
    {
      "cell_type": "code",
      "source": [],
      "metadata": {
        "id": "kXXnzz-9rafk"
      },
      "execution_count": null,
      "outputs": []
    }
  ]
}