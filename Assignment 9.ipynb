{
  "nbformat": 4,
  "nbformat_minor": 0,
  "metadata": {
    "colab": {
      "provenance": [],
      "authorship_tag": "ABX9TyOCmB5LMLr2GGjdqUU47lzu",
      "include_colab_link": true
    },
    "kernelspec": {
      "name": "python3",
      "display_name": "Python 3"
    },
    "language_info": {
      "name": "python"
    }
  },
  "cells": [
    {
      "cell_type": "markdown",
      "metadata": {
        "id": "view-in-github",
        "colab_type": "text"
      },
      "source": [
        "<a href=\"https://colab.research.google.com/github/John-Dublanyk/-CSC221_Jdubl001/blob/main/Untitled10.ipynb\" target=\"_parent\"><img src=\"https://colab.research.google.com/assets/colab-badge.svg\" alt=\"Open In Colab\"/></a>"
      ]
    },
    {
      "cell_type": "code",
      "execution_count": null,
      "metadata": {
        "colab": {
          "base_uri": "https://localhost:8080/"
        },
        "id": "iL6ZsU1xFHcL",
        "outputId": "d5e2bc12-7e05-4f5b-cfa9-de455b842216"
      },
      "outputs": [
        {
          "output_type": "stream",
          "name": "stdout",
          "text": [
            "One of my favorite books is Alice in Wonderland\n"
          ]
        }
      ],
      "source": [
        "#8-2\n",
        "def favorite_book(title):\n",
        "  print(f\"One of my favorite books is {title}\")\n",
        "\n",
        "favorite_book(\"Alice in Wonderland\")"
      ]
    },
    {
      "cell_type": "code",
      "source": [
        "#8-3\n",
        "def make_shirt(size, text):\n",
        "  print(f\"The shirt is a {size} and it needs to say {text}!\")\n",
        "\n",
        "make_shirt('Small', 'I love hockey')\n",
        "make_shirt(size = 'large', text = 'Hockey is great' )\n"
      ],
      "metadata": {
        "colab": {
          "base_uri": "https://localhost:8080/"
        },
        "id": "DWicZTc1HVLc",
        "outputId": "2d4ed9dd-da73-4308-887e-6d65e44792b6"
      },
      "execution_count": null,
      "outputs": [
        {
          "output_type": "stream",
          "name": "stdout",
          "text": [
            "The shirt is a Small and it needs to say I love hockey!\n",
            "The shirt is a large and it needs to say Hockey is great!\n"
          ]
        }
      ]
    },
    {
      "cell_type": "code",
      "source": [
        "#8-4\n",
        "def make_shirt(size = 'large', text = 'I love python'):\n",
        "  print(f\"The shirt is a {size} and it needs to say {text}!\")\n",
        "\n",
        "make_shirt()\n",
        "make_shirt(size = 'medium')\n",
        "make_shirt(size = 'Small', text = 'I love C')"
      ],
      "metadata": {
        "colab": {
          "base_uri": "https://localhost:8080/"
        },
        "id": "bVnvw9uwJgwm",
        "outputId": "8147f7d4-3e07-4411-930e-ec74695976dd"
      },
      "execution_count": null,
      "outputs": [
        {
          "output_type": "stream",
          "name": "stdout",
          "text": [
            "The shirt is a large and it needs to say I love python!\n",
            "The shirt is a medium and it needs to say I love python!\n",
            "The shirt is a Small and it needs to say I love C!\n"
          ]
        }
      ]
    },
    {
      "cell_type": "code",
      "source": [
        "#8-14\n",
        "def make_car(manufacturer, model, **user_info):\n",
        "  user_info['manufacturer'] = manufacturer\n",
        "  user_info['model'] = model\n",
        "  return user_info\n",
        "car = make_car('subaru', 'outback', color='blue',\n",
        " tow_package=True)\n",
        "print(car)"
      ],
      "metadata": {
        "colab": {
          "base_uri": "https://localhost:8080/"
        },
        "id": "1g6k72zxMCxM",
        "outputId": "bae05668-9995-45ee-be50-085babef9f6d"
      },
      "execution_count": null,
      "outputs": [
        {
          "output_type": "stream",
          "name": "stdout",
          "text": [
            "{'color': 'blue', 'tow_package': True, 'manufacturer': 'subaru', 'model': 'outback'}\n"
          ]
        }
      ]
    },
    {
      "cell_type": "code",
      "source": [
        "import numpy\n",
        "\n",
        "def math_results(number1, number2=numpy.pi):\n",
        "\n",
        "  total = number1 + number2\n",
        "  sorted_info = sorted([number1, number2])\n",
        "  return total, sorted_info\n",
        "\n",
        "#Using print statements as my test cases, because with those three print statements we can see all potential hazards and those convience myself that everything is working\n",
        "print(math_results(1,2))\n",
        "print(math_results(10))\n",
        "print(math_results(10,5))"
      ],
      "metadata": {
        "colab": {
          "base_uri": "https://localhost:8080/"
        },
        "id": "3sunthDcSMmm",
        "outputId": "f51b9b47-28d2-4ce7-bd38-c53256c991b8"
      },
      "execution_count": 13,
      "outputs": [
        {
          "output_type": "stream",
          "name": "stdout",
          "text": [
            "(3, [1, 2])\n",
            "(13.141592653589793, [3.141592653589793, 10])\n",
            "(15, [5, 10])\n"
          ]
        }
      ]
    },
    {
      "cell_type": "code",
      "source": [
        "import numpy\n",
        "\n",
        "def math_results(number1, number2=numpy.pi, verbose=False):\n",
        "\n",
        "  total = number1 + number2\n",
        "  sorted_info = sorted([number1, number2])\n",
        "\n",
        "  if verbose:\n",
        "    print(f\"number1: {number1}, number2: {number2}\")\n",
        "    print(f\"Total: {total}, Sorted Info: {sorted_info}\")\n",
        "\n",
        "  return total, sorted_info\n",
        "\n",
        "print(math_results(1,2,verbose=True))"
      ],
      "metadata": {
        "colab": {
          "base_uri": "https://localhost:8080/"
        },
        "id": "wxQxb-16d0mc",
        "outputId": "66d77532-0424-4c1d-fcaf-c6e531b104a3"
      },
      "execution_count": 26,
      "outputs": [
        {
          "output_type": "stream",
          "name": "stdout",
          "text": [
            "number1: 1, number2: 2\n",
            "Total: 3, Sorted Info: [1, 2]\n",
            "(3, [1, 2])\n"
          ]
        }
      ]
    }
  ]
}
