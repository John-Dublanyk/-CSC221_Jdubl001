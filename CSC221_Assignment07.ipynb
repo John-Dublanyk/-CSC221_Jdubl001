{
  "nbformat": 4,
  "nbformat_minor": 0,
  "metadata": {
    "colab": {
      "provenance": [],
      "authorship_tag": "ABX9TyOwoA/NgorDiGehdOKC7C8m",
      "include_colab_link": true
    },
    "kernelspec": {
      "name": "python3",
      "display_name": "Python 3"
    },
    "language_info": {
      "name": "python"
    }
  },
  "cells": [
    {
      "cell_type": "markdown",
      "metadata": {
        "id": "view-in-github",
        "colab_type": "text"
      },
      "source": [
        "<a href=\"https://colab.research.google.com/github/John-Dublanyk/-CSC221_Jdubl001/blob/main/CSC221_Assignment07.ipynb\" target=\"_parent\"><img src=\"https://colab.research.google.com/assets/colab-badge.svg\" alt=\"Open In Colab\"/></a>"
      ]
    },
    {
      "cell_type": "code",
      "source": [
        "#John Dublanyk\n",
        "#Assignment 7"
      ],
      "metadata": {
        "id": "LPqmEL4rT8Yn"
      },
      "execution_count": null,
      "outputs": []
    },
    {
      "cell_type": "code",
      "execution_count": 1,
      "metadata": {
        "colab": {
          "base_uri": "https://localhost:8080/"
        },
        "id": "PBgUTRG81qBI",
        "outputId": "1c598b93-f1fa-42ea-dd8b-fbc2caa3da6f"
      },
      "outputs": [
        {
          "output_type": "stream",
          "name": "stdout",
          "text": [
            "{'firt_name': 'Scott', 'last_name': 'Dublanyk', 'age': '55', 'city': 'Plattsburgh'}\n"
          ]
        }
      ],
      "source": [
        "#6-1\n",
        "father = {'firt_name' : 'Scott', 'last_name' : 'Dublanyk', 'age' : '55', 'city' : 'Plattsburgh'}\n",
        "print(father)"
      ]
    },
    {
      "cell_type": "code",
      "source": [
        "#6-2\n",
        "favorite_number = {'MELSTER' : '8', 'Ella' : '4', 'genson' : '11', 'Gail' : '26', 'Johnner' : '31'}\n",
        "print(favorite_number)"
      ],
      "metadata": {
        "colab": {
          "base_uri": "https://localhost:8080/"
        },
        "id": "fknSIFR83UOT",
        "outputId": "96fd8602-40cf-405c-b22f-6ad9964833ea"
      },
      "execution_count": 4,
      "outputs": [
        {
          "output_type": "stream",
          "name": "stdout",
          "text": [
            "{'MELSTER': '8', 'Ella': '4', 'genson': '11', 'Gail': '26', 'Johnner': '31'}\n"
          ]
        }
      ]
    },
    {
      "cell_type": "code",
      "source": [
        "#6-3\n",
        "glossary = {\n",
        "    'Tuple' : 'an immutable list',\n",
        "    'list' : 'used to store data',\n",
        "    'For' : 'iterate over a sequence of code',\n",
        "    'Boolean Values' : ' value of either True or False',\n",
        "    'Float' : 'a number with a decimal'\n",
        "    }\n",
        "print(glossary)"
      ],
      "metadata": {
        "colab": {
          "base_uri": "https://localhost:8080/"
        },
        "id": "WOqf61QZ89p-",
        "outputId": "e20b580c-054a-40f9-f250-22ec22fe6e40"
      },
      "execution_count": 28,
      "outputs": [
        {
          "output_type": "stream",
          "name": "stdout",
          "text": [
            "{'Tuple': 'an immutable list', 'list': 'used to store data', 'For': 'iterate over a sequence of code', 'Boolean Values': ' value of either True or False', 'Float': 'a number with a decimal'}\n"
          ]
        }
      ]
    },
    {
      "cell_type": "code",
      "source": [
        "#6-4\n",
        "glossary = {\n",
        "\n",
        "    'Tuple;' : 'an immutable list',\n",
        "    'list' : 'used to store data',\n",
        "    'For' : 'iterate over a sequence of code',\n",
        "    'Boolean Values' : ' value of either True or False',\n",
        "    'Float' : 'a number with a decimal',\n",
        "    'Int' : 'a number',\n",
        "    'str' : 'an array of characters',\n",
        "    'If statement' : 'if condition is met statement will be printed',\n",
        "    'variable' : 'stores a value',\n",
        "    'Dictionary' : 'stores data in key and value pairings'\n",
        "    }\n",
        "for key, value in glossary.items():\n",
        " print(f\"\\nKey: {key}\")\n",
        " print(f\"Value: {value}\")"
      ],
      "metadata": {
        "colab": {
          "base_uri": "https://localhost:8080/"
        },
        "id": "0cjNnHlfC_LA",
        "outputId": "bbfb0c9c-ea54-40ca-fe28-ddf56f0011e4"
      },
      "execution_count": 23,
      "outputs": [
        {
          "output_type": "stream",
          "name": "stdout",
          "text": [
            "\n",
            "Key: Tuple;\n",
            "Value: an immutable list\n",
            "\n",
            "Key: list\n",
            "Value: used to store data\n",
            "\n",
            "Key: For\n",
            "Value: iterate over a sequence of code\n",
            "\n",
            "Key: Boolean Values\n",
            "Value:  value of either True or False\n",
            "\n",
            "Key: Float\n",
            "Value: a number with a decimal\n",
            "\n",
            "Key: Int\n",
            "Value: a number\n",
            "\n",
            "Key: str\n",
            "Value: an array of characters\n",
            "\n",
            "Key: If statement\n",
            "Value: if condition is met statement will be printed\n",
            "\n",
            "Key: variable\n",
            "Value: stores a value\n",
            "\n",
            "Key: Dictionary\n",
            "Value: stores data in key and value pairings\n"
          ]
        }
      ]
    },
    {
      "cell_type": "code",
      "source": [
        "#6-11\n",
        "cities = {\n",
        "    'New york' : {\n",
        "        'Country' : 'United States',\n",
        "        'Population' : '8.8 Million',\n",
        "        'Fact' : 'Has 5 burrows'\n",
        "    },\n",
        "    'Montreal' : {\n",
        "        'country' : 'Canada',\n",
        "        'Population' : '1.7 Million',\n",
        "        'Fact': 'They speak french and english'\n",
        "    },\n",
        "    'Reykjavik' : {\n",
        "        'Country' : 'Iceland',\n",
        "        'Population' : '139,875',\n",
        "        'Fact' : 'Known for hotdogs'\n",
        "    }\n",
        "}\n",
        "for key, value in cities.items():\n",
        " print(f\"\\nKey: {key}\")\n",
        " print(f\"Value: {value}\")"
      ],
      "metadata": {
        "colab": {
          "base_uri": "https://localhost:8080/"
        },
        "id": "0OSOpYFUHuJ0",
        "outputId": "e4c63398-ea85-4c24-86e1-9eb2733d7935"
      },
      "execution_count": 31,
      "outputs": [
        {
          "output_type": "stream",
          "name": "stdout",
          "text": [
            "\n",
            "Key: New york\n",
            "Value: {'Country': 'United States', 'Population': '8.8 Million', 'Fact': 'Has 5 burrows'}\n",
            "\n",
            "Key: Montreal\n",
            "Value: {'country': 'Canada', 'Population': '1.7 Million', 'Fact': 'They speak french and english'}\n",
            "\n",
            "Key: Reykjavik\n",
            "Value: {'Country': 'Iceland', 'Population': '139,875', 'Fact': 'Known for hotdogs'}\n"
          ]
        }
      ]
    },
    {
      "cell_type": "code",
      "source": [
        "#6-12, extending the example on page 103\n",
        "favorite_languages = {\n",
        "    'Jen' : {\n",
        "        'Knows well' : 'Python and Java',\n",
        "        'Wants to learn' : 'C#'\n",
        "    },\n",
        "    'sarah': {\n",
        "        'knows well' : 'C',\n",
        "        'Wants to learn' : 'Python and rust'\n",
        "    },\n",
        "    'edward' : {\n",
        "        'Knows well' : 'rust and html',\n",
        "        'Wants to learn' : 'Ruby'\n",
        "    },\n",
        "    'phil': {\n",
        "        'Knows well' : 'Python',\n",
        "        'career status' : 'Quit Programming'\n",
        "    }\n",
        "}\n",
        "for key, value in favorite_languages.items():\n",
        " print(f\"\\nKey: {key} thank you for taking the poll\")\n",
        " print(f\"Value: {value}\")\n",
        "\n"
      ],
      "metadata": {
        "colab": {
          "base_uri": "https://localhost:8080/"
        },
        "id": "ewjqxwD6OGyA",
        "outputId": "71635a28-10cf-4b83-9592-f6c76286596d"
      },
      "execution_count": 39,
      "outputs": [
        {
          "output_type": "stream",
          "name": "stdout",
          "text": [
            "\n",
            "Key: Jen thank you for taking the poll\n",
            "Value: {'Knows well': 'Python and Java', 'Wants to learn': 'C#'}\n",
            "\n",
            "Key: sarah thank you for taking the poll\n",
            "Value: {'knows well': 'C', 'Wants to learn': 'Python and rust'}\n",
            "\n",
            "Key: edward thank you for taking the poll\n",
            "Value: {'Knows well': 'rust and html', 'Wants to learn': 'Ruby'}\n",
            "\n",
            "Key: phil thank you for taking the poll\n",
            "Value: {'Knows well': 'Python', 'career status': 'Quit Programming'}\n"
          ]
        }
      ]
    }
  ]
}