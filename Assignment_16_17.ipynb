{
  "nbformat": 4,
  "nbformat_minor": 0,
  "metadata": {
    "colab": {
      "provenance": [],
      "authorship_tag": "ABX9TyOfeyiN5GT8IAj+DU6f/tbz",
      "include_colab_link": true
    },
    "kernelspec": {
      "name": "python3",
      "display_name": "Python 3"
    },
    "language_info": {
      "name": "python"
    }
  },
  "cells": [
    {
      "cell_type": "markdown",
      "metadata": {
        "id": "view-in-github",
        "colab_type": "text"
      },
      "source": [
        "<a href=\"https://colab.research.google.com/github/John-Dublanyk/-CSC221_Jdubl001/blob/main/Assignment_16_17.ipynb\" target=\"_parent\"><img src=\"https://colab.research.google.com/assets/colab-badge.svg\" alt=\"Open In Colab\"/></a>"
      ]
    },
    {
      "cell_type": "code",
      "execution_count": 2,
      "metadata": {
        "colab": {
          "base_uri": "https://localhost:8080/"
        },
        "id": "EIo0pHP7t5i2",
        "outputId": "b80f41fd-7d9d-4d6c-9a97-2d69efa9b3d1"
      },
      "outputs": [
        {
          "output_type": "stream",
          "name": "stdout",
          "text": [
            "Hello world\n"
          ]
        }
      ],
      "source": [
        "#1.1\n",
        "print(\"Hello world\")"
      ]
    },
    {
      "cell_type": "code",
      "source": [
        "#1.2\n",
        "#I can run python in my command line by writing python filename.py\n",
        "#All I need to do is get to the dir where my file is."
      ],
      "metadata": {
        "colab": {
          "base_uri": "https://localhost:8080/",
          "height": 141
        },
        "id": "DLwO33HuuOxN",
        "outputId": "b15c9600-28df-4362-83b4-2fc4762456f6"
      },
      "execution_count": 3,
      "outputs": [
        {
          "output_type": "error",
          "ename": "SyntaxError",
          "evalue": "ignored",
          "traceback": [
            "\u001b[0;36m  File \u001b[0;32m\"<ipython-input-3-70448f6fb452>\"\u001b[0;36m, line \u001b[0;32m2\u001b[0m\n\u001b[0;31m    shell % python3 hello.py\u001b[0m\n\u001b[0m                    ^\u001b[0m\n\u001b[0;31mSyntaxError\u001b[0m\u001b[0;31m:\u001b[0m invalid syntax\n"
          ]
        }
      ]
    },
    {
      "cell_type": "code",
      "source": [
        "#1.3\n",
        "# this is an int\n",
        "print(11)\n",
        "#this is a float\n",
        "print(1.1)\n",
        "#This is a str\n",
        "print('abcd')\n",
        "#this is a bool\n",
        "print(bool(\"Hello\"))"
      ],
      "metadata": {
        "colab": {
          "base_uri": "https://localhost:8080/"
        },
        "id": "O9y1dJRNvhO2",
        "outputId": "52f65072-a756-4111-bc7d-12f7e6aab677"
      },
      "execution_count": 11,
      "outputs": [
        {
          "output_type": "stream",
          "name": "stdout",
          "text": [
            "11\n",
            "1.1\n",
            "abcd\n",
            "True\n"
          ]
        }
      ]
    },
    {
      "cell_type": "code",
      "source": [
        "#1.4\n",
        "a = 15\n",
        "b = 10\n",
        "print(a + b)\n",
        "print(a / b)\n",
        "print(a // b)\n",
        "abs(a)\n",
        "print(a > b)\n",
        "print(a <= b)"
      ],
      "metadata": {
        "colab": {
          "base_uri": "https://localhost:8080/"
        },
        "id": "UPg76KnfxOtA",
        "outputId": "677fdaec-d5be-4dae-e981-3948b04b6c2d"
      },
      "execution_count": 20,
      "outputs": [
        {
          "output_type": "stream",
          "name": "stdout",
          "text": [
            "25\n",
            "1.5\n",
            "1\n",
            "True\n",
            "False\n"
          ]
        }
      ]
    },
    {
      "cell_type": "code",
      "source": [
        "#1.5\n",
        "while a:\n",
        "  if a > 25:\n",
        "    print('large number')\n",
        "    break\n",
        "  else:\n",
        "    print(a)\n",
        "    break\n"
      ],
      "metadata": {
        "colab": {
          "base_uri": "https://localhost:8080/"
        },
        "id": "P1pTlQMFyPHq",
        "outputId": "b3b56041-e206-4324-8a03-510a1423bccf"
      },
      "execution_count": 27,
      "outputs": [
        {
          "output_type": "stream",
          "name": "stdout",
          "text": [
            "15\n"
          ]
        }
      ]
    },
    {
      "cell_type": "code",
      "source": [
        "#1.6\n",
        "print(\"\"\"Hi\n",
        "my\n",
        "friend\"\"\")\n"
      ],
      "metadata": {
        "colab": {
          "base_uri": "https://localhost:8080/"
        },
        "id": "xFmLTHLAzlPS",
        "outputId": "151506dc-fd1b-410b-d8b1-06d73b6c26f5"
      },
      "execution_count": 2,
      "outputs": [
        {
          "output_type": "stream",
          "name": "stdout",
          "text": [
            "Hi \n",
            "my\n",
            "friend\n"
          ]
        }
      ]
    },
    {
      "cell_type": "code",
      "source": [
        "#1.6\n",
        "name = 'John'\n",
        "print(f\"Hi {name}, how are you?\")"
      ],
      "metadata": {
        "colab": {
          "base_uri": "https://localhost:8080/"
        },
        "id": "GJ99ia1z1H56",
        "outputId": "5ed97291-38ad-46d2-ceb3-08dd581b17e2"
      },
      "execution_count": 3,
      "outputs": [
        {
          "output_type": "stream",
          "name": "stdout",
          "text": [
            "Hi John, how are you?\n"
          ]
        }
      ]
    },
    {
      "cell_type": "code",
      "source": [
        "#1.7\n",
        "%%file  data.txt\n",
        "This is a text file I created\n",
        "you can put any text you want in here\n",
        "you can it in whenever you need\n",
        "I will open it"
      ],
      "metadata": {
        "colab": {
          "base_uri": "https://localhost:8080/"
        },
        "id": "jEwiOcVI1ZiH",
        "outputId": "3a5aeae6-d6a1-46b4-ae89-4d4cad79c4ff"
      },
      "execution_count": 23,
      "outputs": [
        {
          "output_type": "stream",
          "name": "stdout",
          "text": [
            "Overwriting data.txt\n"
          ]
        }
      ]
    },
    {
      "cell_type": "code",
      "source": [
        "#1.7\n",
        "file = open('data.txt')\n",
        "for line in file:\n",
        "    print(line, end='')\n",
        "file.close()"
      ],
      "metadata": {
        "colab": {
          "base_uri": "https://localhost:8080/"
        },
        "id": "tf7e_iT52H4x",
        "outputId": "c92dd398-4bf1-4138-d7cb-2d6289dbc6ff"
      },
      "execution_count": 24,
      "outputs": [
        {
          "output_type": "stream",
          "name": "stdout",
          "text": [
            "This is a text file I created\n",
            "you can put any text you want in here\n",
            "you can it in whenever you need \n",
            "I will open it\n"
          ]
        }
      ]
    },
    {
      "cell_type": "code",
      "source": [
        "sport = input(\"what sport do you play: \")\n",
        "print(f\"{sport} sign up is over there!\")\n"
      ],
      "metadata": {
        "colab": {
          "base_uri": "https://localhost:8080/"
        },
        "id": "sWMiVSal2wVo",
        "outputId": "90572017-12c8-499f-f6a3-747e7aa0bf0e"
      },
      "execution_count": 27,
      "outputs": [
        {
          "output_type": "stream",
          "name": "stdout",
          "text": [
            "what sport do you play: Hockey\n",
            "Hockey sign up is over there\n"
          ]
        }
      ]
    },
    {
      "cell_type": "code",
      "source": [
        "#1.8\n",
        "#list can hold strings, floats, bools, and ints.\n",
        "#A list will print in order\n",
        "random_list = ['hockey', 'soccer', 'baseball', 11, 'john', 13.3, True]\n",
        "print(random_list)"
      ],
      "metadata": {
        "colab": {
          "base_uri": "https://localhost:8080/"
        },
        "id": "t50eXGYB48CU",
        "outputId": "3b229659-5465-4fc1-a609-16a3d963a354"
      },
      "execution_count": 32,
      "outputs": [
        {
          "output_type": "stream",
          "name": "stdout",
          "text": [
            "['hockey', 'soccer', 'baseball', 11, 'john', 13.3, True]\n"
          ]
        }
      ]
    },
    {
      "cell_type": "code",
      "source": [
        "#1.8\n",
        "#list are mutable\n",
        "random_list.append('scott')\n",
        "print(random_list)"
      ],
      "metadata": {
        "colab": {
          "base_uri": "https://localhost:8080/"
        },
        "id": "oJV97hy06HRl",
        "outputId": "974d6948-d5d1-4583-a43c-96938b9e7d8c"
      },
      "execution_count": 44,
      "outputs": [
        {
          "output_type": "stream",
          "name": "stdout",
          "text": [
            "['hockey', 'soccer', 'baseball', 11, 'john', 13.3, True, 'scott', 'scott', 'scott']\n"
          ]
        }
      ]
    },
    {
      "cell_type": "code",
      "source": [
        "1.8\n",
        "new_list = []\n",
        "new_list.append('John')\n",
        "new_list.append('craig')\n",
        "#picks where you want the new item\n",
        "#also list start at 0\n",
        "new_list.insert(0,'susan')\n",
        "print(new_list)"
      ],
      "metadata": {
        "colab": {
          "base_uri": "https://localhost:8080/"
        },
        "id": "2CwKR_Ps8Hhp",
        "outputId": "fc95cb83-56c0-4993-c319-b64c2c37bede"
      },
      "execution_count": 43,
      "outputs": [
        {
          "output_type": "stream",
          "name": "stdout",
          "text": [
            "['susan', 'John', 'craig']\n"
          ]
        }
      ]
    },
    {
      "cell_type": "code",
      "source": [
        "#1.9\n",
        "#tuples are im-mutable\n",
        "#Tuples can hold strings, ints, floats, bools\n",
        "new_tuple = ('John', 000, 'scott', 'Josh', 12.3, True)\n",
        "print(new_tuple)"
      ],
      "metadata": {
        "colab": {
          "base_uri": "https://localhost:8080/"
        },
        "id": "tiRz58mb8pzI",
        "outputId": "81afb0f4-a754-4051-b7bb-5004fbd36b44"
      },
      "execution_count": 49,
      "outputs": [
        {
          "output_type": "stream",
          "name": "stdout",
          "text": [
            "('John', 0, 'scott', 'Josh', 12.3, True)\n"
          ]
        }
      ]
    },
    {
      "cell_type": "code",
      "source": [
        "#1.10\n",
        "#sets are in alphabetical and are mutable\n",
        "names = set()\n",
        "names.add('John')\n",
        "names.update({'Josh', 'Garrett', 'Nolan'})\n",
        "print(names)\n"
      ],
      "metadata": {
        "colab": {
          "base_uri": "https://localhost:8080/"
        },
        "id": "DQMM5Qzk-FuB",
        "outputId": "f6f99e08-3697-44c8-fb7f-711701132c0e"
      },
      "execution_count": 51,
      "outputs": [
        {
          "output_type": "stream",
          "name": "stdout",
          "text": [
            "{'Garrett', 'Nolan', 'John', 'Josh'}\n"
          ]
        }
      ]
    },
    {
      "cell_type": "code",
      "source": [
        "#1.10\n",
        "names.remove('Garrett')\n",
        "print(names)"
      ],
      "metadata": {
        "colab": {
          "base_uri": "https://localhost:8080/"
        },
        "id": "R8XQdx2Z_LvL",
        "outputId": "a219b966-005e-4169-8a03-3f22d9681606"
      },
      "execution_count": 53,
      "outputs": [
        {
          "output_type": "stream",
          "name": "stdout",
          "text": [
            "{'Nolan', 'John', 'Josh'}\n"
          ]
        }
      ]
    },
    {
      "cell_type": "code",
      "source": [
        "#1.11\n",
        "car_dict = {\n",
        "     'make' : 'Chevy',\n",
        "     'model' : 'cruise',\n",
        "     'price' : 1500.99\n",
        "    }\n",
        "print(car_dict)"
      ],
      "metadata": {
        "colab": {
          "base_uri": "https://localhost:8080/"
        },
        "id": "t36EpPQ6_bX0",
        "outputId": "6cb07b1e-25d9-40d1-facc-e8269a6cc159"
      },
      "execution_count": 60,
      "outputs": [
        {
          "output_type": "stream",
          "name": "stdout",
          "text": [
            "{'make': 'Chevy', 'model': 'cruise', 'price': 1500.99}\n"
          ]
        }
      ]
    },
    {
      "cell_type": "code",
      "source": [
        "#1.11\n",
        "pairs = [('make', 'BMW'), ('model', 'x5'), ('price', 400000)]\n",
        "car_dict2 = dict(pairs)\n",
        "print(car_dict2)"
      ],
      "metadata": {
        "colab": {
          "base_uri": "https://localhost:8080/"
        },
        "id": "ri3GdSubAris",
        "outputId": "5a11665e-c303-4386-f82b-0bef80032b79"
      },
      "execution_count": 59,
      "outputs": [
        {
          "output_type": "stream",
          "name": "stdout",
          "text": [
            "{'make': 'BMW', 'model': 'x5', 'price': 400000}\n"
          ]
        }
      ]
    },
    {
      "cell_type": "code",
      "source": [
        "#1.12\n",
        "#when using range it will end one before the number specified\n",
        "for i in range(1,20):\n",
        "  print(i)\n"
      ],
      "metadata": {
        "colab": {
          "base_uri": "https://localhost:8080/"
        },
        "id": "BOpGYGmPBP8o",
        "outputId": "d94b28c9-4571-4620-f86c-3419304815d1"
      },
      "execution_count": 66,
      "outputs": [
        {
          "output_type": "stream",
          "name": "stdout",
          "text": [
            "1\n",
            "2\n",
            "3\n",
            "4\n",
            "5\n",
            "6\n",
            "7\n",
            "8\n",
            "9\n",
            "10\n",
            "11\n",
            "12\n",
            "13\n",
            "14\n",
            "15\n",
            "16\n",
            "17\n",
            "18\n",
            "19\n"
          ]
        }
      ]
    },
    {
      "cell_type": "code",
      "source": [
        "#1.12\n",
        "cars = ['BMW', 'Audi', 'Ford', 'Honda']\n",
        "for car in cars:\n",
        "  if car == \"Audi\":\n",
        "    cars.remove(\"Audi\")\n",
        "    continue\n",
        "  print(cars)"
      ],
      "metadata": {
        "colab": {
          "base_uri": "https://localhost:8080/"
        },
        "id": "kSB7eBqNCIus",
        "outputId": "7fa71649-2971-4a88-b9e4-00c0aa2d4478"
      },
      "execution_count": 72,
      "outputs": [
        {
          "output_type": "stream",
          "name": "stdout",
          "text": [
            "['BMW', 'Audi', 'Ford', 'Honda']\n",
            "['BMW', 'Ford', 'Honda']\n"
          ]
        }
      ]
    },
    {
      "cell_type": "code",
      "source": [
        "#1.13\n",
        "import numpy\n",
        "def calc(a,b):\n",
        "  hypotenuse = numpy.sqrt(a**2 + b**2)\n",
        "  return hypotenuse\n",
        "\n",
        "a = int(input('a: '))\n",
        "b = int(input('b: '))\n",
        "hypotenuse = calc(a, b)\n",
        "print(f\"{hypotenuse}\")\n"
      ],
      "metadata": {
        "colab": {
          "base_uri": "https://localhost:8080/"
        },
        "id": "gyRtKTFOFA50",
        "outputId": "9bd8377c-bc92-4380-c5ea-51f4d4d655a6"
      },
      "execution_count": 78,
      "outputs": [
        {
          "output_type": "stream",
          "name": "stdout",
          "text": [
            "a: 10\n",
            "b: 20\n",
            "22.360679774997898\n"
          ]
        }
      ]
    },
    {
      "cell_type": "code",
      "source": [
        "#1.14\n",
        "values = [0, 1, 2, 'abc']\n",
        "\n",
        "for value in values:\n",
        "    try:\n",
        "        result = 10 / value\n",
        "    except ZeroDivisionError as err:\n",
        "        print(f\"ZeroDivisionError: {err}\")\n",
        "    except TypeError as err:\n",
        "        print(f\"TypeError: {err}\")\n",
        "    except Exception as err:\n",
        "        print(f\"An exception occurred: {err}\")\n",
        "\n",
        "\n"
      ],
      "metadata": {
        "colab": {
          "base_uri": "https://localhost:8080/"
        },
        "id": "B1kud34nH5YD",
        "outputId": "e9fa0c12-8ba8-459b-fbff-b168ad5a2239"
      },
      "execution_count": 16,
      "outputs": [
        {
          "output_type": "stream",
          "name": "stdout",
          "text": [
            "ZeroDivisionError: division by zero\n",
            "TypeError: unsupported operand type(s) for /: 'int' and 'str'\n"
          ]
        }
      ]
    },
    {
      "cell_type": "code",
      "source": [
        "#1.15\n",
        "#stops the while loop from continuously running\n",
        "cars = ['BMW', 'Audi', 'Ford', 'Honda']\n",
        "while cars:\n",
        "  print(cars)\n",
        "  raise SystemExit(\"Something is wrong\")"
      ],
      "metadata": {
        "colab": {
          "base_uri": "https://localhost:8080/",
          "height": 176
        },
        "id": "53Aqb8NjCYAn",
        "outputId": "fd3763b7-da56-4c43-f200-1ebe50b7b7d4"
      },
      "execution_count": 27,
      "outputs": [
        {
          "output_type": "stream",
          "name": "stdout",
          "text": [
            "['BMW', 'Audi', 'Ford', 'Honda']\n"
          ]
        },
        {
          "output_type": "error",
          "ename": "SystemExit",
          "evalue": "ignored",
          "traceback": [
            "An exception has occurred, use %tb to see the full traceback.\n",
            "\u001b[0;31mSystemExit\u001b[0m\u001b[0;31m:\u001b[0m Something is wrong\n"
          ]
        },
        {
          "output_type": "stream",
          "name": "stderr",
          "text": [
            "/usr/local/lib/python3.10/dist-packages/IPython/core/interactiveshell.py:3561: UserWarning: To exit: use 'exit', 'quit', or Ctrl-D.\n",
            "  warn(\"To exit: use 'exit', 'quit', or Ctrl-D.\", stacklevel=1)\n"
          ]
        }
      ]
    },
    {
      "cell_type": "code",
      "source": [
        "#1.16\n",
        "class Car:\n",
        "  def __init__(self, make, model):\n",
        "\n",
        "    self.make = make\n",
        "    self.model = model"
      ],
      "metadata": {
        "id": "Nq03oc-cAuhM"
      },
      "execution_count": 35,
      "outputs": []
    },
    {
      "cell_type": "code",
      "source": [
        "#1.16\n",
        "class Car:\n",
        "  my_car = Car('Ford', 'Fiesta')\n",
        "  print(f\"My car is a {my_car.make} {my_car.model}\")"
      ],
      "metadata": {
        "colab": {
          "base_uri": "https://localhost:8080/"
        },
        "id": "WBNdf3fqD4w9",
        "outputId": "c01fca82-8c70-43b1-a21a-96ce8e007133"
      },
      "execution_count": 36,
      "outputs": [
        {
          "output_type": "stream",
          "name": "stdout",
          "text": [
            "My car is a Ford Fiesta\n"
          ]
        }
      ]
    },
    {
      "cell_type": "code",
      "source": [
        "#1.17\n",
        "# Here is an example of importing pytest which is a test runner\n",
        "# and importing a module from my file tree, so when I am running my test in command prompt it knows the path to take get to the file where we can import the methods we need.\n",
        "import pytest\n",
        "from csc485.projects.hw13.hw13 import compute_complexity, evaluate_strength\n",
        "\"\"\"First we are testing to see what a strong password with only special characters does.\n",
        " second we look for a strong password with bot normal and special character.\n",
        " third look at weak password woth just normal characters, looking for it not to pass.\n",
        " forth we see what happesn when you add numbers to the password, hopping it does not pass\n",
        " fifth we are make sure no password is not accepted.\"\"\"\n",
        "\n",
        "def evaluate_strength(password):\n",
        "\n",
        "    if not isinstance(password, str):\n",
        "        msg = f\"Error: Attempted password '{password}' must be a string!\"\n",
        "        raise TypeError(msg)\n",
        "\n",
        "    strength_threshold = 50.0\n",
        "    complexity = compute_complexity(password)\n",
        "\n",
        "    if complexity > strength_threshold:\n",
        "        return True\n",
        "    else:\n",
        "        return False\n",
        "\n",
        "\n",
        "\n",
        "def compute_complexity(data):\n",
        "\n",
        "    return 60.0\n",
        "\n",
        "\n",
        "@pytest.mark.parametrize(\"password, expected_result\", [\n",
        "    (\"^##^^^\", True),\n",
        "    (\"Jo^^^^h@@\", True),\n",
        "    (\"john\", False),\n",
        "    (\"john123\", False),\n",
        "    (\" \", False),\n",
        "])\n",
        "def test_evaluate_strength(password, expected_result):\n",
        "    assert evaluate_strength(password) == expected_result"
      ],
      "metadata": {
        "id": "K044o355E9u_"
      },
      "execution_count": null,
      "outputs": []
    },
    {
      "cell_type": "code",
      "source": [
        "#1.18\n",
        "#imports module\n",
        "import csv\n",
        "#reads data from file\n",
        "def read_portfolio(filename):\n",
        "    ...\n",
        "\n",
        "def main():\n",
        "    portfolio = read_portfolio('portfolio.csv')\n",
        "    for name, shares, price in portfolio:\n",
        "        print(f'{name:>10s} {shares:10d} {price:10.2f}')\n",
        "#checks if the script is being ran as the main program\n",
        "if __name__ == '__main__':\n",
        "    main()"
      ],
      "metadata": {
        "id": "DdDWVzxbIESH"
      },
      "execution_count": null,
      "outputs": []
    },
    {
      "cell_type": "code",
      "source": [
        "#1.19\n",
        "# You can see some packages in my project structure in 1.20 and that i have the __init__.py to import packages"
      ],
      "metadata": {
        "id": "mtRYGKIQMkdP"
      },
      "execution_count": null,
      "outputs": []
    },
    {
      "cell_type": "code",
      "source": [
        "#1.20\n",
        "#It is kind of hard to read but this is my project structure is my github for csc485\n",
        "csc485\n",
        "-projects\n",
        "--hw10\n",
        "--__init__.py\n",
        "---fruit_query.py\n",
        "--hw11\n",
        "--__init__.py\n",
        "---hw11.py\n",
        "---hw11_update.py\n",
        "--hw12\n",
        "--__init__.py\n",
        "---hw12.py\n",
        "--hw12_flake8\n",
        "--__init__.py\n",
        "---hw10v2_flake8.py\n",
        "---hw11v2_flake8.py\n",
        "---hw12v2_flake8.py\n",
        "---setup.cfg\n",
        "--hw13\n",
        "----__init__.py\n",
        "----hw10_flake8.py\n",
        "---hw11_flake8.py\n",
        "---hw12_flake8.py\n",
        "---hw13.py\n",
        "--hw14\n",
        "--__init__.py\n",
        "---api.py\n",
        "---password_utilities.py\n",
        "-__init__.py\n",
        "-tests\n",
        "--test_hw10\n",
        "--__init__.py\n",
        "---test_hw10.py\n",
        "--test_hw11\n",
        "--__init__.py\n",
        "---test_hw11.py\n",
        "---test_hw11_update.py\n",
        "---testv2_hw11.py\n",
        "---testv3_hw11.py\n",
        "--test_hw12\n",
        "--__init__.py\n",
        "---test_hw12.py\n",
        "---test_hw12_update.py\n",
        "---test_hw12b.py\n",
        "---test_hw12b_update.py\n",
        "---testv2_hw12.py\n",
        "--test_hw13\n",
        "--__init__.py\n",
        "---test hw13b.py\n",
        "---test_hw13.py\n",
        "---testv3_hw13.py\n",
        "--test_hw14\n",
        "--__init__.py\n",
        "-__init__.py\n",
        ".gitignore\n",
        "README.md"
      ],
      "metadata": {
        "id": "gkD5TPphJTZQ"
      },
      "execution_count": null,
      "outputs": []
    },
    {
      "cell_type": "code",
      "source": [
        "#1.21\n",
        "#enter below into command prompt\n",
        "#pip install pytest\n",
        "\"\"\"\n",
        "Requirement already satisfied: pytest in c:\\users\\johnn\\appdata\\local\\packages\\pythonsoftwarefoundation.python.3.10_qbz5n2kfra8p0\\localcache\\local-packages\\python310\\site-packages (7.4.2)\n",
        "Requirement already satisfied: iniconfig in c:\\users\\johnn\\appdata\\local\\packages\\pythonsoftwarefoundation.python.3.10_qbz5n2kfra8p0\\localcache\\local-packages\\python310\\site-packages (from pytest) (2.0.0)\n",
        "Requirement already satisfied: packaging in c:\\users\\johnn\\appdata\\local\\packages\\pythonsoftwarefoundation.python.3.10_qbz5n2kfra8p0\\localcache\\local-packages\\python310\\site-packages (from pytest) (23.1)\n",
        "Requirement already satisfied: pluggy<2.0,>=0.12 in c:\\users\\johnn\\appdata\\local\\packages\\pythonsoftwarefoundation.python.3.10_qbz5n2kfra8p0\\localcache\\local-packages\\python310\\site-packages (from pytest) (1.3.0)\n",
        "Requirement already satisfied: exceptiongroup>=1.0.0rc8 in c:\\users\\johnn\\appdata\\local\\packages\\pythonsoftwarefoundation.python.3.10_qbz5n2kfra8p0\\localcache\\local-packages\\python310\\site-packages (from pytest) (1.1.3)\n",
        "Requirement already satisfied: tomli>=1.0.0 in c:\\users\\johnn\\appdata\\local\\packages\\pythonsoftwarefoundation.python.3.10_qbz5n2kfra8p0\\localcache\\local-packages\\python310\\site-packages (from pytest) (2.0.1)\n",
        "Requirement already satisfied: colorama in c:\\users\\johnn\\appdata\\local\\packages\\pythonsoftwarefoundation.python.3.10_qbz5n2kfra8p0\\localcache\\local-packages\\python310\\site-packages (from pytest) (0.4.6)\n",
        "\n",
        "[notice] A new release of pip is available: 23.2.1 -> 23.3.1\n",
        "[notice] To update, run: C:\\Users\\johnn\\AppData\\Local\\Microsoft\\WindowsApps\\PythonSoftwareFoundation.Python.3.10_qbz5n2kfra8p0\\python.exe -m pip install --upgrade pip#\n",
        "\"\"\"\n",
        "#now you can import pytest and use it in your test code"
      ],
      "metadata": {
        "id": "3Rwu92U3LaPC"
      },
      "execution_count": null,
      "outputs": []
    }
  ]
}