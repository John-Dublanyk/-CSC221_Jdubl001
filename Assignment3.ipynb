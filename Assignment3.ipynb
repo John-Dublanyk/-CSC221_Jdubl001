{
  "nbformat": 4,
  "nbformat_minor": 0,
  "metadata": {
    "colab": {
      "provenance": [],
      "authorship_tag": "ABX9TyOBlgk22+aPn0CmWKAf0VgB",
      "include_colab_link": true
    },
    "kernelspec": {
      "name": "python3",
      "display_name": "Python 3"
    },
    "language_info": {
      "name": "python"
    }
  },
  "cells": [
    {
      "cell_type": "markdown",
      "metadata": {
        "id": "view-in-github",
        "colab_type": "text"
      },
      "source": [
        "<a href=\"https://colab.research.google.com/github/John-Dublanyk/-CSC221_Jdubl001/blob/main/Assignment3.ipynb\" target=\"_parent\"><img src=\"https://colab.research.google.com/assets/colab-badge.svg\" alt=\"Open In Colab\"/></a>"
      ]
    },
    {
      "cell_type": "code",
      "source": [
        "#2.1\n",
        "a = \"How is your day going?\"\n",
        "print(a)"
      ],
      "metadata": {
        "colab": {
          "base_uri": "https://localhost:8080/"
        },
        "id": "cO5acIRWqRWU",
        "outputId": "df8f3be2-588b-4ecf-ccf9-c350ecbdcc38"
      },
      "execution_count": null,
      "outputs": [
        {
          "output_type": "stream",
          "name": "stdout",
          "text": [
            "How is your day going?\n"
          ]
        }
      ]
    },
    {
      "cell_type": "code",
      "source": [
        "#2.2\n",
        "a = \"I am enjoying this class\"\n",
        "print(a)\n",
        "\n",
        "a = \"Python is fun\"\n",
        "print(a)"
      ],
      "metadata": {
        "colab": {
          "base_uri": "https://localhost:8080/"
        },
        "id": "ailiJ1-Dl5nG",
        "outputId": "23c02291-dc90-4fef-ed45-2ab2fe03c765"
      },
      "execution_count": null,
      "outputs": [
        {
          "output_type": "stream",
          "name": "stdout",
          "text": [
            "I am enjoying this class\n",
            "Python is fun\n"
          ]
        }
      ]
    },
    {
      "cell_type": "code",
      "source": [
        "#2.3\n",
        "first_name = \"John\"\n",
        "last_name = \"Dublanyk\"\n",
        "full_name = f\"{first_name} {last_name}\"\n",
        "message = f\"Hello, {full_name.title()} are you ready for class!\"\n",
        "print(message)"
      ],
      "metadata": {
        "colab": {
          "base_uri": "https://localhost:8080/"
        },
        "id": "1TiNy0irnJgk",
        "outputId": "1c891fdf-07f3-4181-c2bc-02c6a6afbf62"
      },
      "execution_count": null,
      "outputs": [
        {
          "output_type": "stream",
          "name": "stdout",
          "text": [
            "Hello, John Dublanyk are you ready for class!\n"
          ]
        }
      ]
    },
    {
      "cell_type": "code",
      "source": [
        "#2.4\n",
        "name = \"john dublanyk\"\n",
        "print(name.lower())\n",
        "print(name.upper())\n",
        "print(name.title())\n"
      ],
      "metadata": {
        "colab": {
          "base_uri": "https://localhost:8080/"
        },
        "id": "qNxJ2e5iqQeV",
        "outputId": "7c5a32a9-2fd2-418e-9bcc-713390301891"
      },
      "execution_count": null,
      "outputs": [
        {
          "output_type": "stream",
          "name": "stdout",
          "text": [
            "john dublanyk\n",
            "JOHN DUBLANYK\n",
            "John Dublanyk\n"
          ]
        }
      ]
    },
    {
      "cell_type": "code",
      "source": [
        "#2.5\n",
        "first_name = \"Albert\"\n",
        "last_name = \"Einstein\"\n",
        "full_name = f\"{first_name} {last_name}\"\n",
        "message = f' {full_name.title()} once stated,\"The only source of knowledge is experience.\"'\n",
        "print(message)"
      ],
      "metadata": {
        "colab": {
          "base_uri": "https://localhost:8080/"
        },
        "id": "YilgbGk-rdI0",
        "outputId": "deed4f4c-12bd-45e5-bfd2-bc334384de75"
      },
      "execution_count": null,
      "outputs": [
        {
          "output_type": "stream",
          "name": "stdout",
          "text": [
            " Albert Einstein once stated,\"The only source of knowledge is experience.\"\n"
          ]
        }
      ]
    },
    {
      "cell_type": "code",
      "source": [
        "#2.6\n",
        "famous_person = \"Leonardo DiCaprio\"\n",
        "message = f\"{famous_person} is a very good actor and I really enjoy all of his films.\"\n",
        "print(message)"
      ],
      "metadata": {
        "colab": {
          "base_uri": "https://localhost:8080/"
        },
        "id": "hSInWJwlt37W",
        "outputId": "e0e5cf71-daab-4570-ab83-a8a864c5e27d"
      },
      "execution_count": null,
      "outputs": [
        {
          "output_type": "stream",
          "name": "stdout",
          "text": [
            "Leonardo DiCaprio is a very good actor and I really enjoy all of his films.\n"
          ]
        }
      ]
    },
    {
      "cell_type": "code",
      "source": [
        "#2.7\n",
        "name = \"\\t   John          \\t\\n          Dublanyk         \"\n",
        "\n",
        "\n",
        "print(name)\n"
      ],
      "metadata": {
        "id": "Tmcf9ndUx61q",
        "colab": {
          "base_uri": "https://localhost:8080/"
        },
        "outputId": "f0ae62ee-0260-45a5-a628-2e63e99caa9b"
      },
      "execution_count": 81,
      "outputs": [
        {
          "output_type": "stream",
          "name": "stdout",
          "text": [
            "\t   John          \t\n",
            "          Dublanyk         \n"
          ]
        }
      ]
    },
    {
      "cell_type": "code",
      "source": [
        "#2.7\n",
        "name_class = \"\\t   JohnDublanyk  \"\n",
        "\n",
        "print(name_class)\n"
      ],
      "metadata": {
        "colab": {
          "base_uri": "https://localhost:8080/"
        },
        "id": "FED_b0cteSA-",
        "outputId": "7d2b2bf0-71da-4614-c192-3ffb15108e4d"
      },
      "execution_count": 108,
      "outputs": [
        {
          "output_type": "stream",
          "name": "stdout",
          "text": [
            "\t   JohnDublanyk  \n"
          ]
        }
      ]
    },
    {
      "cell_type": "code",
      "source": [
        "#2.7\n",
        "name_class = \"\\t   JohnDublanyk  \"\n",
        "name_class = name_class.rstrip()\n",
        "print(name_class)\n"
      ],
      "metadata": {
        "id": "hFOQIrh1rUM7",
        "colab": {
          "base_uri": "https://localhost:8080/"
        },
        "outputId": "21b1b8eb-f12d-4f5c-f049-24b3639683a2"
      },
      "execution_count": 106,
      "outputs": [
        {
          "output_type": "stream",
          "name": "stdout",
          "text": [
            "\t   JohnDublanyk\n"
          ]
        }
      ]
    },
    {
      "cell_type": "code",
      "source": [
        "#2.7\n",
        "name_class = \"\\t   JohnDublanyk  \"\n",
        "name_class = name_class.lstrip()\n",
        "print(name_class)"
      ],
      "metadata": {
        "colab": {
          "base_uri": "https://localhost:8080/"
        },
        "id": "WsdUTlW8jxOC",
        "outputId": "9976ead6-9873-405c-a9e3-444935c23746"
      },
      "execution_count": 107,
      "outputs": [
        {
          "output_type": "stream",
          "name": "stdout",
          "text": [
            "JohnDublanyk  \n"
          ]
        }
      ]
    },
    {
      "cell_type": "code",
      "source": [
        "#2.7\n",
        "name_class = \" Hi \\nJohnDublanyk \"\n",
        "\n",
        "name_class = name_class.strip()\n",
        "print(name_class)\n"
      ],
      "metadata": {
        "colab": {
          "base_uri": "https://localhost:8080/"
        },
        "id": "Rw_Mz-6Cib6n",
        "outputId": "b36a569c-95c6-4d90-a13d-8edf706dc7e8"
      },
      "execution_count": 105,
      "outputs": [
        {
          "output_type": "stream",
          "name": "stdout",
          "text": [
            "Hi \n",
            "JohnDublanyk\n"
          ]
        }
      ]
    },
    {
      "cell_type": "code",
      "source": [
        "#2.8\n",
        "filename = 'python_notes.txt'\n",
        "filename = filename.removesuffix('.txt')\n",
        "print(filename)"
      ],
      "metadata": {
        "colab": {
          "base_uri": "https://localhost:8080/"
        },
        "id": "h5SP2y0wkFcQ",
        "outputId": "238f39f3-d336-4cd9-f02e-2cee523c1343"
      },
      "execution_count": 109,
      "outputs": [
        {
          "output_type": "stream",
          "name": "stdout",
          "text": [
            "python_notes\n"
          ]
        }
      ]
    },
    {
      "cell_type": "code",
      "source": [],
      "metadata": {
        "id": "3gjyYXBNl_8r"
      },
      "execution_count": null,
      "outputs": []
    },
    {
      "cell_type": "code",
      "source": [
        "#2.9\n",
        "print(4+4)\n",
        "print(12-4)\n",
        "print(4*2)\n",
        "print(16/2)"
      ],
      "metadata": {
        "colab": {
          "base_uri": "https://localhost:8080/"
        },
        "id": "DJInefH6oFZn",
        "outputId": "95945f51-598e-465a-b10b-60076dbf46c4"
      },
      "execution_count": 114,
      "outputs": [
        {
          "output_type": "stream",
          "name": "stdout",
          "text": [
            "8\n",
            "8\n",
            "8\n",
            "8.0\n"
          ]
        }
      ]
    },
    {
      "cell_type": "code",
      "source": [
        "#2.10\n",
        "Favorite_number = '20'\n",
        "\n",
        "message = \" This is my favorite number \" + str(Favorite_number)\n",
        "\n",
        "print(message)"
      ],
      "metadata": {
        "colab": {
          "base_uri": "https://localhost:8080/"
        },
        "id": "lsbWMQIYppZy",
        "outputId": "4d9f694d-f52f-4f6f-d6a9-206ba03be575"
      },
      "execution_count": 117,
      "outputs": [
        {
          "output_type": "stream",
          "name": "stdout",
          "text": [
            " This is my favorite number 20\n"
          ]
        }
      ]
    },
    {
      "cell_type": "code",
      "source": [
        "#2.11\n",
        "#John Dublanyk,9/11/23. I created python math operators, I put all operators and integers into a print statement to get my results.\n",
        "print(4+4)\n",
        "print(12-4)\n",
        "print(4*2)\n",
        "print(16/2)"
      ],
      "metadata": {
        "colab": {
          "base_uri": "https://localhost:8080/"
        },
        "id": "cxdVCFKatcNI",
        "outputId": "0c33c221-b942-439f-bae8-10d307fde0c2"
      },
      "execution_count": 118,
      "outputs": [
        {
          "output_type": "stream",
          "name": "stdout",
          "text": [
            "8\n",
            "8\n",
            "8\n",
            "8.0\n"
          ]
        }
      ]
    },
    {
      "cell_type": "code",
      "source": [
        "#2.11\n",
        "#John Dublanyk, 9/11/23. I created a variable  'python_notes.txt' and then used a method to remove the.txt\n",
        "filename = 'python_notes.txt'\n",
        "filename = filename.removesuffix('.txt')\n",
        "print(filename)"
      ],
      "metadata": {
        "id": "2pLQ09tcvBu8"
      },
      "execution_count": null,
      "outputs": []
    },
    {
      "cell_type": "code",
      "source": [
        "#2.12\n",
        "import numpy\n",
        "\n",
        "x = 100\n",
        "sqrt_x = numpy.sqrt(x)\n",
        "print(x,sqrt_x)\n",
        "\n"
      ],
      "metadata": {
        "colab": {
          "base_uri": "https://localhost:8080/"
        },
        "id": "JWTU_L0owV5p",
        "outputId": "f13bafb6-403b-456d-f736-d3158bba1bed"
      },
      "execution_count": 120,
      "outputs": [
        {
          "output_type": "stream",
          "name": "stdout",
          "text": [
            "100 10.0\n"
          ]
        }
      ]
    }
  ]
}