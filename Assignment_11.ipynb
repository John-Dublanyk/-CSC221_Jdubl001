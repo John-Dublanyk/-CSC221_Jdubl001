{
  "nbformat": 4,
  "nbformat_minor": 0,
  "metadata": {
    "colab": {
      "provenance": [],
      "authorship_tag": "ABX9TyMv8u9LmjwFrUjGwQ33YOuY",
      "include_colab_link": true
    },
    "kernelspec": {
      "name": "python3",
      "display_name": "Python 3"
    },
    "language_info": {
      "name": "python"
    }
  },
  "cells": [
    {
      "cell_type": "markdown",
      "metadata": {
        "id": "view-in-github",
        "colab_type": "text"
      },
      "source": [
        "<a href=\"https://colab.research.google.com/github/John-Dublanyk/-CSC221_Jdubl001/blob/main/Assignment_11.ipynb\" target=\"_parent\"><img src=\"https://colab.research.google.com/assets/colab-badge.svg\" alt=\"Open In Colab\"/></a>"
      ]
    },
    {
      "cell_type": "code",
      "source": [
        "#John Dublanyk\n",
        "#Assignment 11"
      ],
      "metadata": {
        "id": "aq9E98_PudXf"
      },
      "execution_count": null,
      "outputs": []
    },
    {
      "cell_type": "code",
      "execution_count": 40,
      "metadata": {
        "id": "oJtnafXClSdf"
      },
      "outputs": [],
      "source": [
        "#examples\n",
        "class Dog:\n",
        "  \"\"\"A simple attempt ro model a dof.\"\"\"\n",
        "\n",
        "  def __init__(self, name, age):\n",
        "    \"\"\"Initialize name and age attributes.\"\"\"\n",
        "    self.name = name\n",
        "    self.age = age\n",
        "\n",
        "  def sit(self):\n",
        "    \"\"\"simulate a dog sitting in response to a command.\"\"\"\n",
        "    print(f\"{self.name} is now sitting\")\n",
        "\n",
        "  def roll_over(self):\n",
        "    \"\"\" simulate roling over in response to a command.\"\"\"\n",
        "    print(f\"{self.name} rolled over!\")\n",
        "\n"
      ]
    },
    {
      "cell_type": "code",
      "source": [
        "class Dog:\n",
        "\n",
        "  my_dog = Dog('Willie', 6)\n",
        "  print(f\"My dog's name is {my_dog.name}.\")\n",
        "  print(f\"My dog is {my_dog.age} years old.\")"
      ],
      "metadata": {
        "colab": {
          "base_uri": "https://localhost:8080/"
        },
        "id": "iCRmXKbznCmP",
        "outputId": "49e6f3b6-e04e-43f6-9a12-de4f3385690c"
      },
      "execution_count": 36,
      "outputs": [
        {
          "output_type": "stream",
          "name": "stdout",
          "text": [
            "My dog's name is Willie.\n",
            "My dog is 6 years old.\n"
          ]
        }
      ]
    },
    {
      "cell_type": "code",
      "source": [
        "my_dog.name"
      ],
      "metadata": {
        "colab": {
          "base_uri": "https://localhost:8080/",
          "height": 35
        },
        "id": "lLNGhVLfI8vB",
        "outputId": "7e6f59fd-dcea-44cf-b8ce-dc583c50e5f4"
      },
      "execution_count": 23,
      "outputs": [
        {
          "output_type": "execute_result",
          "data": {
            "text/plain": [
              "'Willie'"
            ],
            "application/vnd.google.colaboratory.intrinsic+json": {
              "type": "string"
            }
          },
          "metadata": {},
          "execution_count": 23
        }
      ]
    },
    {
      "cell_type": "code",
      "source": [
        "class Dog:\n",
        "\n",
        "  my_dog = Dog('Willie', 6)\n",
        "  my_dog.sit()\n",
        "  my_dog.roll_over()"
      ],
      "metadata": {
        "colab": {
          "base_uri": "https://localhost:8080/"
        },
        "id": "I_G_7TrgJC5O",
        "outputId": "2e7a25f2-9d6b-4361-fa79-41e98f60fdfb"
      },
      "execution_count": 39,
      "outputs": [
        {
          "output_type": "stream",
          "name": "stdout",
          "text": [
            "Willie is now sitting\n",
            "Willie rolled over!\n"
          ]
        }
      ]
    },
    {
      "cell_type": "code",
      "source": [
        "class Dog:\n",
        "\n",
        "  my_dog = Dog('willie', 6)\n",
        "  your_dog = Dog('lucy', 3)\n",
        "\n",
        "  print(f\"My dog's name is {my_dog.name}.\")\n",
        "  print(f\"My dog is {my_dog.age} years old.\")\n",
        "  my_dog.sit()\n",
        "\n",
        "  print(f\"\\nYour dog's name is {your_dog.name}.\")\n",
        "  print(f\"Your dog is {your_dog.age} years old.\")\n",
        "  your_dog.sit()"
      ],
      "metadata": {
        "colab": {
          "base_uri": "https://localhost:8080/"
        },
        "id": "iAkZ_SDwK5Rg",
        "outputId": "79f90866-e1f0-4dce-bab3-020893681cfc"
      },
      "execution_count": 41,
      "outputs": [
        {
          "output_type": "stream",
          "name": "stdout",
          "text": [
            "My dog's name is willie.\n",
            "My dog is 6 years old.\n",
            "willie is now sitting\n",
            "\n",
            "Your dog's name is lucy.\n",
            "Your dog is 3 years old.\n",
            "lucy is now sitting\n"
          ]
        }
      ]
    },
    {
      "cell_type": "code",
      "source": [
        "class Car:\n",
        "  \"\"\"A simple attempt to represent a car.\"\"\"\n",
        "  def __init__(self, make, model, year):\n",
        "    \"\"\"Initialize attributes to describe a car.\"\"\"\n",
        "    self.make = make\n",
        "    self.model = model\n",
        "    self.year = year\n",
        "\n",
        "  def get_descriptive_name(self):\n",
        "    \"\"\"Return a neatly formatted descriptive name.\"\"\"\n",
        "    long_name = f\"{self.year} {self.make} {self.model}\"\n",
        "\n",
        "    return long_name.title()\n",
        "\n",
        "my_new_car = Car('audi', 'a4', 2024)\n",
        "print(my_new_car.get_descriptive_name())\n",
        "\n"
      ],
      "metadata": {
        "colab": {
          "base_uri": "https://localhost:8080/"
        },
        "id": "_KmZEuvZVlTt",
        "outputId": "0c9ffd09-08f3-46d8-998e-27c85f2d86b6"
      },
      "execution_count": 80,
      "outputs": [
        {
          "output_type": "stream",
          "name": "stdout",
          "text": [
            "2024 Audi A4\n"
          ]
        }
      ]
    },
    {
      "cell_type": "code",
      "source": [
        "class Car:\n",
        "\n",
        "  def __init__(self, make, model, year):\n",
        "    \"\"\"Initialize attributes to describe a car.\"\"\"\n",
        "    self.make = make\n",
        "    self.model = model\n",
        "    self.year = year\n",
        "    self.odometer_reading = 0\n",
        "\n",
        "  def get_descriptive_name(self):\n",
        "    return f\"{self.year} {self.make} {self.model}\"\n",
        "\n",
        "  def read_odometer(self):\n",
        "    \"\"\"Print a statement showing the car's mileage.\"\"\"\n",
        "    print(f\"This car has {self.odometer_reading} miles on it.\")\n",
        "\n",
        "my_new_car = Car('audi', 'a4', 2024)\n",
        "print(my_new_car.get_descriptive_name())\n",
        "my_new_car.read_odometer()"
      ],
      "metadata": {
        "colab": {
          "base_uri": "https://localhost:8080/"
        },
        "id": "Rs9RDhfVVl4j",
        "outputId": "5d2e181d-f1a5-4d83-a360-07dee2da156f"
      },
      "execution_count": 66,
      "outputs": [
        {
          "output_type": "stream",
          "name": "stdout",
          "text": [
            "2024 audi a4\n",
            "This car has 0 miles on it.\n"
          ]
        }
      ]
    },
    {
      "cell_type": "code",
      "source": [
        "class Car:\n",
        "\n",
        "  my_new_car = Car('audi', 'a4', 2024)\n",
        "  print(my_new_car.get_descriptive_name())\n",
        "\n",
        "  my_new_car.odometer_reading = 23\n",
        "  my_new_car.read_odometer()\n"
      ],
      "metadata": {
        "colab": {
          "base_uri": "https://localhost:8080/"
        },
        "id": "l0kolhyTeYTu",
        "outputId": "eb4cf644-3856-49d3-c093-fd59df0ae168"
      },
      "execution_count": 67,
      "outputs": [
        {
          "output_type": "stream",
          "name": "stdout",
          "text": [
            "2024 audi a4\n",
            "This car has 23 miles on it.\n"
          ]
        }
      ]
    },
    {
      "cell_type": "code",
      "source": [
        "class Car:\n",
        "    \"\"\"A simple attempt to represent a car.\"\"\"\n",
        "    def __init__(self, make, model, year):\n",
        "      \"\"\"Initialize attributes to describe a car.\"\"\"\n",
        "      self.make = make\n",
        "      self.model = model\n",
        "      self.year = year\n",
        "      self.odometer_reading = 0\n",
        "\n",
        "    def get_descriptive_name(self):\n",
        "        \"\"\"Return a neatly formatted descriptive name.\"\"\"\n",
        "        long_name = f\"{self.year} {self.make} {self.model}\"\n",
        "        return long_name.title()\n",
        "\n",
        "    def read_odometer(self):\n",
        "        \"\"\"Print a statement showing the car's mileage.\"\"\"\n",
        "        print(f\"This car has {self.odometer_reading} miles on it.\")\n",
        "\n",
        "    def update_odometer(self, mileage):\n",
        "        \"\"\"Set the odometer reading to the given value.\"\"\"\n",
        "        if mileage >= self.odometer_reading:\n",
        "            self.odometer_reading = mileage\n",
        "        else:\n",
        "            print(\"You can't roll back an odometer!\")\n",
        "\n",
        "    def increment_odometer(self, miles):\n",
        "        \"\"\"Add the given amount to the odometer reading.\"\"\"\n",
        "        self.odometer_reading += miles\n",
        "\n",
        "class ElectricCar(Car):\n",
        "    \"\"\"Represent aspects of a car, specific to electric vehicles.\"\"\"\n",
        "\n",
        "    def __init__(self, make, model, year):\n",
        "      \"\"\"Initialize attributes of the parent class.\"\"\"\n",
        "      super().__init__(make, model, year)\n",
        "\n",
        "my_leaf = ElectricCar('nissan', 'leaf', 2024)\n",
        "print(my_leaf.get_descriptive_name())"
      ],
      "metadata": {
        "colab": {
          "base_uri": "https://localhost:8080/"
        },
        "id": "AjcVagl0lRtU",
        "outputId": "1368e434-a01b-44e6-9599-aa5422dbab9f"
      },
      "execution_count": 90,
      "outputs": [
        {
          "output_type": "stream",
          "name": "stdout",
          "text": [
            "2024 Nissan Leaf\n"
          ]
        }
      ]
    },
    {
      "cell_type": "code",
      "source": [
        "class ElectricCar(Car):\n",
        "  \"\"\"Represent aspects of a car, specific to electric vehicles.\"\"\"\n",
        "\n",
        "  def __init__(self, make, model, year):\n",
        "      \"\"\"\n",
        "      Initialize attributes of the parent class.\n",
        "      Then initialize attributes specific to an electric car.\n",
        "      \"\"\"\n",
        "      super().__init__(make, model, year)\n",
        "      self.battery_size = 40\n",
        "  def describe_battery(self):\n",
        "      \"\"\"Print a statement describing the battery size.\"\"\"\n",
        "      print(f\"This car has a {self.battery_size}-kWh battery.\")\n",
        "\n",
        "my_leaf = ElectricCar('nissan', 'leaf', 2024)\n",
        "print(my_leaf.get_descriptive_name())\n",
        "my_leaf.describe_battery()"
      ],
      "metadata": {
        "colab": {
          "base_uri": "https://localhost:8080/"
        },
        "id": "5p55jpb9oa9L",
        "outputId": "12d94356-31df-449d-cfc0-f38f78aec2d9"
      },
      "execution_count": 91,
      "outputs": [
        {
          "output_type": "stream",
          "name": "stdout",
          "text": [
            "2024 Nissan Leaf\n",
            "This car has a 40-kWh battery.\n"
          ]
        }
      ]
    },
    {
      "cell_type": "code",
      "source": [
        "class ElectricCar(Car):\n",
        "\n",
        "  def fill_gas_tank(self):\n",
        "    \"\"\"Electric cars don't have gas tanks.\"\"\"\n",
        "    print(\"This car doesn't have a gas tank!\")\n"
      ],
      "metadata": {
        "id": "MIE6rUWQpvFr"
      },
      "execution_count": 94,
      "outputs": []
    },
    {
      "cell_type": "code",
      "source": [
        "class Battery:\n",
        "    \"\"\"A simple attempt to model a battery for an electric car.\"\"\"\n",
        "\n",
        "    def __init__(self, battery_size=40):\n",
        "        \"\"\"Initialize the battery's attributes.\"\"\"\n",
        "        self.battery_size = battery_size\n",
        "\n",
        "    def describe_battery(self):\n",
        "        \"\"\"Print a statement describing the battery size.\"\"\"\n",
        "        print(f\"This car has a {self.battery_size}-kWh battery.\")\n",
        "\n",
        "class ElectricCar(Car):\n",
        "    \"\"\"Represent aspects of a car, specific to electric vehicles.\"\"\"\n",
        "\n",
        "    def __init__(self, make, model, year):\n",
        "        \"\"\"\n",
        "        Initialize attributes of the parent class.\n",
        "        Then initialize attributes specific to an electric car.\n",
        "        \"\"\"\n",
        "        super().__init__(make, model, year)\n",
        "        self.battery = Battery()\n",
        "\n",
        "my_leaf = ElectricCar('nissan', 'leaf', 2024)\n",
        "print(my_leaf.get_descriptive_name())\n",
        "my_leaf.battery.describe_battery()"
      ],
      "metadata": {
        "colab": {
          "base_uri": "https://localhost:8080/"
        },
        "id": "_g5gAveJqWb7",
        "outputId": "7588eb8a-4d9b-4841-e4de-833d518ccafa"
      },
      "execution_count": 95,
      "outputs": [
        {
          "output_type": "stream",
          "name": "stdout",
          "text": [
            "2024 Nissan Leaf\n",
            "This car has a 40-kWh battery.\n"
          ]
        }
      ]
    },
    {
      "cell_type": "code",
      "source": [
        "my_leaf.battery.describe_battery()"
      ],
      "metadata": {
        "colab": {
          "base_uri": "https://localhost:8080/"
        },
        "id": "t3o8GoAYqg5G",
        "outputId": "def85756-ffed-477d-8c87-259b11099548"
      },
      "execution_count": 96,
      "outputs": [
        {
          "output_type": "stream",
          "name": "stdout",
          "text": [
            "This car has a 40-kWh battery.\n"
          ]
        }
      ]
    },
    {
      "cell_type": "code",
      "source": [
        "class Car:\n",
        "    def __init__(self, make, model, year):\n",
        "        self.make = make\n",
        "        self.model = model\n",
        "        self.year = year\n",
        "\n",
        "    def get_descriptive_name(self):\n",
        "        return f\"{self.year} {self.make} {self.model}\"\n",
        "\n",
        "class Battery:\n",
        "    def __init__(self, battery_size=40):\n",
        "        self.battery_size = battery_size\n",
        "\n",
        "    def describe_battery(self):\n",
        "        print(f\"This car has a {self.battery_size}-kWh battery.\")\n",
        "\n",
        "    def get_range(self):\n",
        "        if self.battery_size == 40:\n",
        "            range = 150\n",
        "        elif self.battery_size == 65:\n",
        "            range = 225\n",
        "        print(f\"This car can go about {range} miles on a full charge.\")\n",
        "\n",
        "class ElectricCar(Car):\n",
        "    def __init__(self, make, model, year):\n",
        "        super().__init__(make, model, year)\n",
        "        self.battery = Battery()\n",
        "\n",
        "my_leaf = ElectricCar('Nissan', 'Leaf', 2024)\n",
        "print(my_leaf.get_descriptive_name())\n",
        "my_leaf.battery.describe_battery()\n",
        "my_leaf.battery.get_range()\n"
      ],
      "metadata": {
        "colab": {
          "base_uri": "https://localhost:8080/"
        },
        "id": "kgCF-xixqjrv",
        "outputId": "412bbf2e-18da-45ed-9b8c-21cfabbe7adf"
      },
      "execution_count": 101,
      "outputs": [
        {
          "output_type": "stream",
          "name": "stdout",
          "text": [
            "2024 Nissan Leaf\n",
            "This car has a 40-kWh battery.\n",
            "This car can go about 150 miles on a full charge.\n"
          ]
        }
      ]
    },
    {
      "cell_type": "code",
      "source": [
        "\"\"\"A class that can be used to represent a car.\"\"\"\n",
        "\n",
        "class Car:\n",
        "    \"\"\"A simple attempt to represent a car.\"\"\"\n",
        "\n",
        "    def __init__(self, make, model, year):\n",
        "        \"\"\"Initialize attributes to describe a car.\"\"\"\n",
        "        self.make = make\n",
        "        self.model = model\n",
        "        self.year = year\n",
        "        self.odometer_reading = 0\n",
        "\n",
        "    def get_descriptive_name(self):\n",
        "        \"\"\"Return a neatly formatted descriptive name.\"\"\"\n",
        "        long_name = f\"{self.year} {self.make} {self.model}\"\n",
        "        return long_name.title()\n",
        "\n",
        "    def read_odometer(self):\n",
        "        \"\"\"Print a statement showing the car's mileage.\"\"\"\n",
        "        print(f\"This car has {self.odometer_reading} miles on it.\")\n",
        "\n",
        "    def update_odometer(self, mileage):\n",
        "        \"\"\"\n",
        "        Set the odometer reading to the given value.\n",
        "        Reject the change if it attempts to roll the odometer back.\n",
        "        \"\"\"\n",
        "        if mileage >= self.odometer_reading:\n",
        "            self.odometer_reading = mileage\n",
        "        else:\n",
        "            print(\"You can't roll back an odometer!\")\n",
        "\n",
        "    def increment_odometer(self, miles):\n",
        "        \"\"\"Add the given amount to the odometer reading.\"\"\"\n",
        "        self.odometer_reading += miles\n"
      ],
      "metadata": {
        "id": "GlVjH1HfsA9r"
      },
      "execution_count": 102,
      "outputs": []
    },
    {
      "cell_type": "code",
      "source": [
        "#9-1\n",
        "class Restaurant:\n",
        "  def __init__(self, restaurant_name, cuisine_type ):\n",
        "    self.restaurant_name = restaurant_name\n",
        "    self.cuisine_type = cuisine_type\n",
        "\n",
        "  def describe_restaurant(self):\n",
        "    print(f\"Restaurant name: {self.restaurant_name}\")\n",
        "    print(f\"Cuisine type: {self.cuisine_type}\")\n",
        "\n",
        "  def restaurant_open(self):\n",
        "    print(f\"{self.restaurant_name} is open, come eat!\")\n",
        "\n",
        "my_restaurant = Restaurant(\"Johnny's\", 'Pizza')\n",
        "\n",
        "my_restaurant.restaurant_name\n",
        "my_restaurant.cuisine_type\n",
        "\n",
        "Restaurant.describe_restaurant(my_restaurant)\n",
        "Restaurant.restaurant_open(my_restaurant)"
      ],
      "metadata": {
        "colab": {
          "base_uri": "https://localhost:8080/"
        },
        "id": "xQRpsKhGsKLJ",
        "outputId": "6580fc45-72d6-490c-cc04-59d3a9cd068e"
      },
      "execution_count": 6,
      "outputs": [
        {
          "output_type": "stream",
          "name": "stdout",
          "text": [
            "Restaurant name: Johnny's\n",
            "Cuisine type: Pizza\n",
            "Johnny's is open, come eat!\n"
          ]
        }
      ]
    },
    {
      "cell_type": "code",
      "source": [
        "#3-2\n",
        "class Restaurant:\n",
        "  def __init__(self, restaurant_name, cuisine_type ):\n",
        "    self.restaurant_name = restaurant_name\n",
        "    self.cuisine_type = cuisine_type\n",
        "\n",
        "  def describe_restaurant(self):\n",
        "    print(f\"Restaurant name: {self.restaurant_name}\")\n",
        "    print(f\"Cuisine type: {self.cuisine_type}\")\n",
        "\n",
        "restaurant1 = Restaurant(\"Sally's\", \"French\")\n",
        "restaurant2 = Restaurant(\"Corner store\", \"Sandwhiches\")\n",
        "restaurant3 = Restaurant(\"Hab's Zone\", \"Quebec\")\n",
        "\n",
        "Restaurant.describe_restaurant(restaurant1)\n",
        "Restaurant.describe_restaurant(restaurant2)\n",
        "Restaurant.describe_restaurant(restaurant3)"
      ],
      "metadata": {
        "colab": {
          "base_uri": "https://localhost:8080/"
        },
        "id": "x8ctlSJNbcPL",
        "outputId": "aab05b8c-677e-4575-9bc1-af1ec154fa66"
      },
      "execution_count": 7,
      "outputs": [
        {
          "output_type": "stream",
          "name": "stdout",
          "text": [
            "Restaurant name: Sally's\n",
            "Cuisine type: French\n",
            "Restaurant name: Corner store\n",
            "Cuisine type: Sandwhiches\n",
            "Restaurant name: Hab's Zone\n",
            "Cuisine type: Quebec\n"
          ]
        }
      ]
    },
    {
      "cell_type": "code",
      "source": [
        "#3-3\n",
        "class User:\n",
        "  def __init__(self, first_name, last_name, age, nationality):\n",
        "    self.first_name = first_name\n",
        "    self.last_name = last_name\n",
        "    self.age = age\n",
        "    self.nationality = nationality\n",
        "\n",
        "  def describe_user(self):\n",
        "    print(f\"The user's name is {self.first_name} {self.last_name}, they are {self.age} years old and from {self.nationality}!\")\n",
        "\n",
        "  def user_greeting(self):\n",
        "    print(f\"Hello, {self.first_name} {self.last_name}\")\n",
        "\n",
        "user1 = User('John', 'Dublanyk', 21, 'U.S.A')\n",
        "user2 = User('Jay', 'Smith', 41, 'Canada')\n",
        "user3 = User('Bob', 'Tucker', 89, 'Italy')\n",
        "\n",
        "User.describe_user(user1)\n",
        "User.user_greeting(user1)\n",
        "User.describe_user(user2)\n",
        "User.user_greeting(user2)\n",
        "User.describe_user(user3)\n",
        "User.user_greeting(user3)\n",
        "\n"
      ],
      "metadata": {
        "colab": {
          "base_uri": "https://localhost:8080/"
        },
        "id": "zR3L2P23YnD3",
        "outputId": "b9b41b0a-fb97-453c-f33b-066c64d6a85f"
      },
      "execution_count": 9,
      "outputs": [
        {
          "output_type": "stream",
          "name": "stdout",
          "text": [
            "The user's name is John Dublanyk, they are 21 years old and from U.S.A!\n",
            "Hello, John Dublanyk\n",
            "The user's name is Jay Smith, they are 41 years old and from Canada!\n",
            "Hello, Jay Smith\n",
            "The user's name is Bob Tucker, they are 89 years old and from Italy!\n",
            "Hello, Bob Tucker\n"
          ]
        }
      ]
    },
    {
      "cell_type": "code",
      "source": [
        "#9-6\n",
        "\n",
        "\n",
        "class Restaurant:\n",
        "    def __init__(self, restaurant_name, cuisine_type):\n",
        "        self.restaurant_name = restaurant_name\n",
        "        self.cuisine_type = cuisine_type\n",
        "\n",
        "    def describe_restaurant(self):\n",
        "        print(f\"Restaurant name: {self.restaurant_name}\")\n",
        "        print(f\"Cuisine type: {self.cuisine_type}\")\n",
        "\n",
        "class IceCreamStand(Restaurant):\n",
        "    def __init__(self, restaurant_name, cuisine_type):\n",
        "        super().__init__(restaurant_name, cuisine_type)\n",
        "        self.flavors = []\n",
        "\n",
        "    def display_flavors(self):\n",
        "        print(f\"Our flavors are: {self.flavors}\")\n",
        "\n",
        "ice_cream = IceCreamStand(\"Icecreamstand\", \"Ice cream\")\n",
        "ice_cream.flavors = ['Lemon', 'Strawberry', 'Black Cherry', 'Vanilla']\n",
        "\n",
        "IceCreamStand.describe_restaurant(ice_cream)\n",
        "IceCreamStand.display_flavors(ice_cream)\n"
      ],
      "metadata": {
        "colab": {
          "base_uri": "https://localhost:8080/"
        },
        "id": "HQ_kgNloilVn",
        "outputId": "14d655a2-3b71-4a88-a26d-624f381a4439"
      },
      "execution_count": 20,
      "outputs": [
        {
          "output_type": "stream",
          "name": "stdout",
          "text": [
            "Restaurant name: Icecreamstand\n",
            "Cuisine type: Ice cream\n",
            "Our flavors are: ['Lemon', 'Strawberry', 'Black Cherry', 'Vanilla']\n"
          ]
        }
      ]
    },
    {
      "cell_type": "code",
      "source": [
        "#9-7\n",
        "class User:\n",
        "  def __init__(self, first_name, last_name, age, nationality):\n",
        "    self.first_name = first_name\n",
        "    self.last_name = last_name\n",
        "    self.age = age\n",
        "    self.nationality = nationality\n",
        "\n",
        "  def describe_user(self):\n",
        "    print(f\"The user's name is {self.first_name} {self.last_name}, they are {self.age} years old and from {self.nationality}!\")\n",
        "\n",
        "class Admin(User):\n",
        "  def __init__(self, first_name, last_name, age, nationality):\n",
        "    super().__init__(first_name, last_name, age, nationality)\n",
        "    self.privileges = [\"can add post\", \"can delete post\", \"can ban user\"]\n",
        "\n",
        "  def  show_privileges(self):\n",
        "    print(f\"privileges are {self.privileges}\")\n",
        "\n",
        "admin_user = Admin('John', 'Dublanyk', 21, 'U.S.A')\n",
        "\n",
        "Admin.describe_user(admin_user)\n",
        "Admin.show_privileges(admin_user)\n"
      ],
      "metadata": {
        "colab": {
          "base_uri": "https://localhost:8080/"
        },
        "id": "TPw3Cp2sqbVP",
        "outputId": "c633f448-5a8e-43a9-85cf-5ca12ea62b8f"
      },
      "execution_count": 21,
      "outputs": [
        {
          "output_type": "stream",
          "name": "stdout",
          "text": [
            "The user's name is John Dublanyk, they are 21 years old and from U.S.A!\n",
            "privileges are ['can add post', 'can delete post', 'can ban user']\n"
          ]
        }
      ]
    }
  ]
}