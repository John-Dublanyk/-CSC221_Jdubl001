{
  "nbformat": 4,
  "nbformat_minor": 0,
  "metadata": {
    "colab": {
      "provenance": [],
      "authorship_tag": "ABX9TyP+KC5DS8fnMEiyZtTz1PwZ",
      "include_colab_link": true
    },
    "kernelspec": {
      "name": "python3",
      "display_name": "Python 3"
    },
    "language_info": {
      "name": "python"
    }
  },
  "cells": [
    {
      "cell_type": "markdown",
      "metadata": {
        "id": "view-in-github",
        "colab_type": "text"
      },
      "source": [
        "<a href=\"https://colab.research.google.com/github/John-Dublanyk/-CSC221_Jdubl001/blob/main/assigment14.ipynb\" target=\"_parent\"><img src=\"https://colab.research.google.com/assets/colab-badge.svg\" alt=\"Open In Colab\"/></a>"
      ]
    },
    {
      "cell_type": "code",
      "execution_count": 25,
      "metadata": {
        "colab": {
          "base_uri": "https://localhost:8080/"
        },
        "id": "Pi1ZRsyxMMRY",
        "outputId": "9dcfe7e1-3804-4dc1-86f6-7b9feb497c36"
      },
      "outputs": [
        {
          "name": "stdout",
          "output_type": "stream",
          "text": [
            "enter: \n",
            "1 + 3\n",
            "total: 4.0\n",
            "enter: \n",
            "2  - 10\n",
            "total: -8.0\n",
            "enter: \n",
            "30 * 10\n",
            "total: 300.0\n",
            "enter: \n",
            "30 / 3\n",
            "total: 10.0\n",
            "enter: \n",
            "10+2\n",
            "Invalid input\n",
            "enter: \n",
            "quir\n",
            "Invalid input\n",
            "enter: \n",
            "quit\n"
          ]
        }
      ],
      "source": [
        "#calculator\n",
        "total = 0\n",
        "while True:\n",
        "\n",
        "  print(\"enter: \")\n",
        "\n",
        "  number = input()\n",
        "\n",
        "  if number == \"quit\":\n",
        "    break\n",
        "\n",
        "  try:\n",
        "    args = number.split()\n",
        "    if len(args) != 3:\n",
        "      print(\"Invalid input\")\n",
        "      continue\n",
        "\n",
        "    num1 = float(args[0])\n",
        "    operators = args[1]\n",
        "    num2 = float(args[2])\n",
        "\n",
        "    if operators == '+':\n",
        "      total += num1 + num2\n",
        "    elif operators == '-':\n",
        "      total += num1 - num2\n",
        "    elif operators == '*':\n",
        "      total += num1 * num2\n",
        "    elif operators == '/':\n",
        "      total += num1 / num2\n",
        "\n",
        "    print(f\"total: {total}\")\n",
        "    total = 0\n",
        "  except (ValueError):\n",
        "    print(\"Invalid input\")\n"
      ]
    },
    {
      "cell_type": "code",
      "source": [
        "#Updated assignment 13\n",
        "records = []\n",
        "file = open('as_received1.txt', 'r')\n",
        "\n",
        "line = file.readline()\n",
        "while len(line)>0:\n",
        "    print(f\"{line}\")\n",
        "    line = file.readline()\n",
        "\n",
        "    while len(line) > 0:\n",
        "        try:\n",
        "            records.append(line)\n",
        "        except Exception:\n",
        "            print(f\"Error: {Exception}\")\n",
        "\n",
        "        line = file.readline()\n",
        "\n",
        "with open('corrected.txt', 'w') as corrected_file:\n",
        "    unique_records = set(records)\n",
        "    corrected_file.writelines(sorted(unique_records))"
      ],
      "metadata": {
        "id": "fswfvdQn3moq"
      },
      "execution_count": null,
      "outputs": []
    }
  ]
}