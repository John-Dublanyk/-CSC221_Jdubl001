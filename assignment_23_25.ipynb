{
  "nbformat": 4,
  "nbformat_minor": 0,
  "metadata": {
    "colab": {
      "provenance": [],
      "authorship_tag": "ABX9TyOb30QFhEAJhs8qQug+7d1y",
      "include_colab_link": true
    },
    "kernelspec": {
      "name": "python3",
      "display_name": "Python 3"
    },
    "language_info": {
      "name": "python"
    }
  },
  "cells": [
    {
      "cell_type": "markdown",
      "metadata": {
        "id": "view-in-github",
        "colab_type": "text"
      },
      "source": [
        "<a href=\"https://colab.research.google.com/github/John-Dublanyk/-CSC221_Jdubl001/blob/main/assignment_23_25.ipynb\" target=\"_parent\"><img src=\"https://colab.research.google.com/assets/colab-badge.svg\" alt=\"Open In Colab\"/></a>"
      ]
    },
    {
      "cell_type": "code",
      "execution_count": null,
      "metadata": {
        "colab": {
          "base_uri": "https://localhost:8080/"
        },
        "id": "3_C4aG-CSjWe",
        "outputId": "4aa1c9b1-87a0-4961-92b4-ca56a6e50a6f"
      },
      "outputs": [
        {
          "output_type": "stream",
          "name": "stdout",
          "text": [
            "Result: 3\n",
            "Result: 5\n"
          ]
        }
      ],
      "source": [
        "#1\n",
        "def func(a, b):\n",
        "\n",
        "  return a + b\n",
        "\n",
        "#Testcase\n",
        "\n",
        "result1 = func(1, 2)\n",
        "print(\"Result:\", result1)\n",
        "\n",
        "result2 = func(2, 3)\n",
        "print(\"Result:\", result2)"
      ]
    },
    {
      "cell_type": "code",
      "source": [
        "#2\n",
        "def func(*s):\n",
        "\n",
        "  return sum(s)\n",
        "\n",
        "#Testcases\n",
        "\n",
        "result1 = func(2, 2)\n",
        "print(\"Result:\", result1)\n",
        "\n",
        "result2 = func(4, 6)\n",
        "print(\"Result:\", result2)"
      ],
      "metadata": {
        "colab": {
          "base_uri": "https://localhost:8080/"
        },
        "id": "p_GUB68LTmMA",
        "outputId": "ec6b178e-1961-4c03-c3cc-74428495f250"
      },
      "execution_count": null,
      "outputs": [
        {
          "output_type": "stream",
          "name": "stdout",
          "text": [
            "Result: 4\n",
            "Result: 10\n"
          ]
        }
      ]
    },
    {
      "cell_type": "code",
      "source": [
        "#3\n",
        "def func(**kwargs):\n",
        "\n",
        "    return [(key, value) for key, value in kwargs.items()]\n",
        "\n",
        "#Testcases\n",
        "result1 = func(arg1=1, arg2=2)\n",
        "print(result1)\n",
        "\n",
        "result2 = func(arg1=100, arg2=139)\n",
        "print(result2)"
      ],
      "metadata": {
        "id": "eZNrlN8IUkoe",
        "colab": {
          "base_uri": "https://localhost:8080/"
        },
        "outputId": "e9ab456b-c5dd-4948-957b-4df4cc28de0d"
      },
      "execution_count": 10,
      "outputs": [
        {
          "output_type": "stream",
          "name": "stdout",
          "text": [
            "[('arg1', 1), ('arg2', 2)]\n",
            "[('arg1', 100), ('arg2', 139)]\n"
          ]
        }
      ]
    },
    {
      "cell_type": "code",
      "source": [
        "#4\n",
        "def func(*args, operator='+', **kwargs):\n",
        "\n",
        "    result = 0\n",
        "\n",
        "    if operator == '+':\n",
        "        result = sum(args)\n",
        "    elif operator == '-':\n",
        "        if args:\n",
        "            result = args[0] - sum(args[1:])\n",
        "        else:\n",
        "            result = 0\n",
        "\n",
        "    return result\n",
        "\n",
        "# Testcases\n",
        "result1 = func(100, 150, 130, operator='+')\n",
        "print(\"Result 1:\", result1)\n",
        "\n",
        "result2 = func(19, 47, 1, operator='-')\n",
        "print(\"Results 2:\", result2)\n",
        "\n",
        "result3 = func(3, 500, 700)\n",
        "print(\"Results 3:\", result3)\n"
      ],
      "metadata": {
        "colab": {
          "base_uri": "https://localhost:8080/"
        },
        "id": "wVKgcJJhhjds",
        "outputId": "acdc3398-2480-4ba7-8b07-1b37c93c4c50"
      },
      "execution_count": 20,
      "outputs": [
        {
          "output_type": "stream",
          "name": "stdout",
          "text": [
            "Result 1: 380\n",
            "Results 2: -29\n",
            "Results 3: 1203\n"
          ]
        }
      ]
    },
    {
      "cell_type": "code",
      "source": [
        "#5\n",
        "x = 10\n",
        "y = 20\n",
        "\n",
        "def func():\n",
        "  global x\n",
        "  x = 5\n",
        "  y = 6\n",
        "func()\n",
        "\n",
        "#Testcases\n",
        "print(x)\n",
        "print(y)\n",
        "#As we can see that the y value stays the same and does not take the number inside the function.\n",
        "#But x take the value of x inside the function because it is a global variable."
      ],
      "metadata": {
        "colab": {
          "base_uri": "https://localhost:8080/"
        },
        "id": "A1Vo1N-QjrfM",
        "outputId": "ce1104ed-7486-4870-d3af-f48edc500ea6"
      },
      "execution_count": 24,
      "outputs": [
        {
          "output_type": "stream",
          "name": "stdout",
          "text": [
            "5\n",
            "20\n"
          ]
        }
      ]
    },
    {
      "cell_type": "code",
      "source": [
        "#6\n",
        "vowels = 'aeiou'\n",
        "words = [\"john\", \"alex\", \"ethan\", \"oscaraa\", \"iana\", \"alanaieou\"]\n",
        "\n",
        "sorted_words = sorted(words, key=lambda word: sum(char.lower() in vowels for char in word))\n",
        "\n",
        "print(\"Words:\", words)\n",
        "print(\"Sorted Words:\", sorted_words)"
      ],
      "metadata": {
        "colab": {
          "base_uri": "https://localhost:8080/"
        },
        "id": "8evpWFu0qYy3",
        "outputId": "54701f77-b290-4404-8d9f-2281825f0846"
      },
      "execution_count": 29,
      "outputs": [
        {
          "output_type": "stream",
          "name": "stdout",
          "text": [
            "Words: ['john', 'alex', 'ethan', 'oscaraa', 'iana', 'alanaieou']\n",
            "Sorted Words: ['john', 'alex', 'ethan', 'iana', 'oscaraa', 'alanaieou']\n"
          ]
        }
      ]
    },
    {
      "cell_type": "code",
      "source": [
        "#7\n",
        "def logger(func):\n",
        "    def wrapper(*args, **kwargs):\n",
        "        with open('log.txt', 'a') as log_file:\n",
        "            log_file.write(f\"Function: {func.__name__}\\n\")\n",
        "            log_file.write(f\"Arguments: {args}, {kwargs}\\n\")\n",
        "\n",
        "            result = func(*args, **kwargs)\n",
        "\n",
        "            log_file.write(f\"Return Value: {result}\\n\\n\")\n",
        "\n",
        "        return result\n",
        "\n",
        "    return wrapper\n",
        "\n",
        "@logger\n",
        "def func(x, y):\n",
        "    return x + y\n",
        "\n",
        "@logger\n",
        "def vowels(words):\n",
        "    return sorted(words, key=lambda word: sum(char.lower() in 'aeiou' for char in word))\n",
        "\n",
        "result_func = func(3, 5)\n",
        "result_vowels = vowels([\"john\", \"alex\", \"ethan\", \"oscar\", \"ian\", \"alan\"])\n",
        "\n",
        "with open('log.txt', 'r') as log_file:\n",
        "    log_contents = log_file.read()\n",
        "\n",
        "print(log_contents)"
      ],
      "metadata": {
        "colab": {
          "base_uri": "https://localhost:8080/"
        },
        "id": "by4alGEhzRKt",
        "outputId": "357efcef-a39d-4549-fda4-aff043e2c2c3"
      },
      "execution_count": 45,
      "outputs": [
        {
          "output_type": "stream",
          "name": "stdout",
          "text": [
            "Function: func\n",
            "Arguments: (3, 5), {}\n",
            "Return Value: 8\n",
            "\n",
            "Function: vowels\n",
            "Arguments: (['john', 'alex', 'ethan', 'oscar', 'ian', 'alan'],), {}\n",
            "Return Value: ['john', 'alex', 'ethan', 'oscar', 'ian', 'alan']\n",
            "\n",
            "\n"
          ]
        }
      ]
    },
    {
      "cell_type": "code",
      "source": [
        "#8\n",
        "nums = [1, 2, 3, 4, 5]\n",
        "\n",
        "squares_mapped = map(lambda x: x*x, nums)\n",
        "print(\"Map (Squares):\", list(squares_mapped))\n",
        "\n",
        "filtered_nums = filter(lambda x: x > 2, nums)\n",
        "print(\"Filter (Greater than 2):\", list(filtered_nums))\n",
        "\n",
        "product = reduce(lambda x, y: x * y, nums)\n",
        "print(\"Reduce (Product):\", product)\n"
      ],
      "metadata": {
        "colab": {
          "base_uri": "https://localhost:8080/"
        },
        "id": "8jIFXul_zs2y",
        "outputId": "94a9150f-56d9-4e43-93dc-8ef3fa294a92"
      },
      "execution_count": 52,
      "outputs": [
        {
          "output_type": "stream",
          "name": "stdout",
          "text": [
            "Map (Squares): [1, 4, 9, 16, 25]\n",
            "Filter (Greater than 2): [3, 4, 5]\n",
            "Reduce (Product): 120\n"
          ]
        }
      ]
    },
    {
      "cell_type": "code",
      "source": [
        "#9\n",
        "def simple_calculator():\n",
        "    while True:\n",
        "        expression = input(\"Enter expression or 'exit' to quit: \")\n",
        "\n",
        "        if expression.lower() == 'exit':\n",
        "            break\n",
        "        try:\n",
        "            result = eval(expression)\n",
        "            print(\"Result:\", result)\n",
        "        except Exception as e:\n",
        "            print(\"Error:\", e)\n",
        "\n",
        "if __name__ == \"__main__\":\n",
        "    simple_calculator()\n"
      ],
      "metadata": {
        "colab": {
          "base_uri": "https://localhost:8080/"
        },
        "id": "krcuJnzt1gkj",
        "outputId": "1e275bd5-17ca-47a8-f89e-b51b72760597"
      },
      "execution_count": 54,
      "outputs": [
        {
          "name": "stdout",
          "output_type": "stream",
          "text": [
            "Enter expression or 'exit' to quit: 10 + 10\n",
            "Result: 20\n",
            "Enter expression or 'exit' to quit: exit\n"
          ]
        }
      ]
    }
  ]
}